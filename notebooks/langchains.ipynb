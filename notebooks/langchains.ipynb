{
  "cells": [
    {
      "cell_type": "markdown",
      "id": "aece233b",
      "metadata": {
        "id": "aece233b"
      },
      "source": [
        "Downloading the model from Hugging Face Hub , the link contain multiple variants of the model, you can choose the one that fits your needs.here we will choose the FB16"
      ]
    },
    {
      "cell_type": "code",
      "execution_count": 5,
      "id": "4990f24a",
      "metadata": {
        "colab": {
          "base_uri": "https://localhost:8080/"
        },
        "id": "4990f24a",
        "outputId": "df7b8d28-82cd-4285-eeeb-7b8556e4c0df"
      },
      "outputs": [
        {
          "output_type": "stream",
          "name": "stdout",
          "text": [
            "--2025-06-15 21:19:21--  https://huggingface.co/microsoft/Phi-3-mini-4k-instruct-gguf/resolve/main/Phi-3-mini-4k-instruct-fp16.gguf\n",
            "Resolving huggingface.co (huggingface.co)... 13.35.202.121, 13.35.202.40, 13.35.202.97, ...\n",
            "Connecting to huggingface.co (huggingface.co)|13.35.202.121|:443... connected.\n",
            "HTTP request sent, awaiting response... 302 Found\n",
            "Location: https://cdn-lfs-us-1.hf.co/repos/41/c8/41c860f65b01de5dc4c68b00d84cead799d3e7c48e38ee749f4c6057776e2e9e/5d99003e395775659b0dde3f941d88ff378b2837a8dc3a2ea94222ab1420fad3?response-content-disposition=inline%3B+filename*%3DUTF-8%27%27Phi-3-mini-4k-instruct-fp16.gguf%3B+filename%3D%22Phi-3-mini-4k-instruct-fp16.gguf%22%3B&Expires=1750025961&Policy=eyJTdGF0ZW1lbnQiOlt7IkNvbmRpdGlvbiI6eyJEYXRlTGVzc1RoYW4iOnsiQVdTOkVwb2NoVGltZSI6MTc1MDAyNTk2MX19LCJSZXNvdXJjZSI6Imh0dHBzOi8vY2RuLWxmcy11cy0xLmhmLmNvL3JlcG9zLzQxL2M4LzQxYzg2MGY2NWIwMWRlNWRjNGM2OGIwMGQ4NGNlYWQ3OTlkM2U3YzQ4ZTM4ZWU3NDlmNGM2MDU3Nzc2ZTJlOWUvNWQ5OTAwM2UzOTU3NzU2NTliMGRkZTNmOTQxZDg4ZmYzNzhiMjgzN2E4ZGMzYTJlYTk0MjIyYWIxNDIwZmFkMz9yZXNwb25zZS1jb250ZW50LWRpc3Bvc2l0aW9uPSoifV19&Signature=qwYMTftuvS8R9%7EKEka5sV6HRlHND2M30BWS7hZzexaFNAYCocbBxS2Fg-dUnVTKbpQnKUWdrVH0%7Ey%7EyeUAOKLSN6wCLaEzf6PWnimfCph5QYdEFCRy1N1hCAk0w1hfn8rq2nRjmx%7EDtYa24DL7WCUyodSzC4HTdyoKKJYrteVGY2iL2MLapykb7apUXlioeUlVsz7EyjKHlKS4%7ErCeJRu9jJfKtsyypYuej9VwynTuprmcA1PBV6-AGErHkVi2HqJstEcr9k6LB%7E7kViWEb7O9Plbdcqs12uDZiiykiWduEZrHRTrO6pR6ncKTR0Z8ZmjqzV1pceFOjy%7EHTWeuJWfQ__&Key-Pair-Id=K24J24Z295AEI9 [following]\n",
            "--2025-06-15 21:19:21--  https://cdn-lfs-us-1.hf.co/repos/41/c8/41c860f65b01de5dc4c68b00d84cead799d3e7c48e38ee749f4c6057776e2e9e/5d99003e395775659b0dde3f941d88ff378b2837a8dc3a2ea94222ab1420fad3?response-content-disposition=inline%3B+filename*%3DUTF-8%27%27Phi-3-mini-4k-instruct-fp16.gguf%3B+filename%3D%22Phi-3-mini-4k-instruct-fp16.gguf%22%3B&Expires=1750025961&Policy=eyJTdGF0ZW1lbnQiOlt7IkNvbmRpdGlvbiI6eyJEYXRlTGVzc1RoYW4iOnsiQVdTOkVwb2NoVGltZSI6MTc1MDAyNTk2MX19LCJSZXNvdXJjZSI6Imh0dHBzOi8vY2RuLWxmcy11cy0xLmhmLmNvL3JlcG9zLzQxL2M4LzQxYzg2MGY2NWIwMWRlNWRjNGM2OGIwMGQ4NGNlYWQ3OTlkM2U3YzQ4ZTM4ZWU3NDlmNGM2MDU3Nzc2ZTJlOWUvNWQ5OTAwM2UzOTU3NzU2NTliMGRkZTNmOTQxZDg4ZmYzNzhiMjgzN2E4ZGMzYTJlYTk0MjIyYWIxNDIwZmFkMz9yZXNwb25zZS1jb250ZW50LWRpc3Bvc2l0aW9uPSoifV19&Signature=qwYMTftuvS8R9%7EKEka5sV6HRlHND2M30BWS7hZzexaFNAYCocbBxS2Fg-dUnVTKbpQnKUWdrVH0%7Ey%7EyeUAOKLSN6wCLaEzf6PWnimfCph5QYdEFCRy1N1hCAk0w1hfn8rq2nRjmx%7EDtYa24DL7WCUyodSzC4HTdyoKKJYrteVGY2iL2MLapykb7apUXlioeUlVsz7EyjKHlKS4%7ErCeJRu9jJfKtsyypYuej9VwynTuprmcA1PBV6-AGErHkVi2HqJstEcr9k6LB%7E7kViWEb7O9Plbdcqs12uDZiiykiWduEZrHRTrO6pR6ncKTR0Z8ZmjqzV1pceFOjy%7EHTWeuJWfQ__&Key-Pair-Id=K24J24Z295AEI9\n",
            "Resolving cdn-lfs-us-1.hf.co (cdn-lfs-us-1.hf.co)... 108.157.254.4, 108.157.254.55, 108.157.254.125, ...\n",
            "Connecting to cdn-lfs-us-1.hf.co (cdn-lfs-us-1.hf.co)|108.157.254.4|:443... connected.\n",
            "HTTP request sent, awaiting response... 200 OK\n",
            "Length: 7643295904 (7.1G) [binary/octet-stream]\n",
            "Saving to: ‘Phi-3-mini-4k-instruct-fp16.gguf.2’\n",
            "\n",
            "Phi-3-mini-4k-instr 100%[===================>]   7.12G   205MB/s    in 45s     \n",
            "\n",
            "2025-06-15 21:20:06 (163 MB/s) - ‘Phi-3-mini-4k-instruct-fp16.gguf.2’ saved [7643295904/7643295904]\n",
            "\n"
          ]
        }
      ],
      "source": [
        "!wget https://huggingface.co/microsoft/Phi-3-mini-4k-instruct-gguf/resolve/main/Phi-3-mini-4k-instruct-fp16.gguf\n"
      ]
    },
    {
      "cell_type": "code",
      "execution_count": 28,
      "id": "_1QoiFWJzNdf",
      "metadata": {
        "colab": {
          "base_uri": "https://localhost:8080/"
        },
        "id": "_1QoiFWJzNdf",
        "outputId": "4f44a15e-16a9-4a38-b520-6be7d98c9a74"
      },
      "outputs": [
        {
          "output_type": "stream",
          "name": "stdout",
          "text": [
            "fatal: destination path 'Hands-On-Large-Language-Models' already exists and is not an empty directory.\n"
          ]
        }
      ],
      "source": [
        "!git clone https://github.com/HandsOnLLM/Hands-On-Large-Language-Models.git\n"
      ]
    },
    {
      "cell_type": "code",
      "source": [
        "!cd /content/Hands-On-Large-Language-Models\n",
        "!pip install -r /content/Hands-On-Large-Language-Models/requirements.txt\n"
      ],
      "metadata": {
        "colab": {
          "base_uri": "https://localhost:8080/"
        },
        "id": "EME53ZLbCatf",
        "outputId": "cd12acee-aab0-4409-82e6-8b2ce82e2d06"
      },
      "id": "EME53ZLbCatf",
      "execution_count": 29,
      "outputs": [
        {
          "output_type": "stream",
          "name": "stdout",
          "text": [
            "Requirement already satisfied: numpy==1.26.4 in /usr/local/lib/python3.11/dist-packages (from -r /content/Hands-On-Large-Language-Models/requirements.txt (line 2)) (1.26.4)\n",
            "Requirement already satisfied: pandas==2.2.2 in /usr/local/lib/python3.11/dist-packages (from -r /content/Hands-On-Large-Language-Models/requirements.txt (line 3)) (2.2.2)\n",
            "Requirement already satisfied: datasets==2.20.0 in /usr/local/lib/python3.11/dist-packages (from -r /content/Hands-On-Large-Language-Models/requirements.txt (line 4)) (2.20.0)\n",
            "Requirement already satisfied: jupyterlab==4.2.2 in /usr/local/lib/python3.11/dist-packages (from -r /content/Hands-On-Large-Language-Models/requirements.txt (line 7)) (4.2.2)\n",
            "Requirement already satisfied: ipywidgets==8.1.3 in /usr/local/lib/python3.11/dist-packages (from -r /content/Hands-On-Large-Language-Models/requirements.txt (line 8)) (8.1.3)\n",
            "Requirement already satisfied: torch==2.3.1 in /usr/local/lib/python3.11/dist-packages (from -r /content/Hands-On-Large-Language-Models/requirements.txt (line 11)) (2.3.1)\n",
            "Requirement already satisfied: transformers==4.41.2 in /usr/local/lib/python3.11/dist-packages (from -r /content/Hands-On-Large-Language-Models/requirements.txt (line 12)) (4.41.2)\n",
            "Requirement already satisfied: sentence-transformers==3.0.1 in /usr/local/lib/python3.11/dist-packages (from -r /content/Hands-On-Large-Language-Models/requirements.txt (line 13)) (3.0.1)\n",
            "Requirement already satisfied: matplotlib==3.9.0 in /usr/local/lib/python3.11/dist-packages (from -r /content/Hands-On-Large-Language-Models/requirements.txt (line 14)) (3.9.0)\n",
            "Requirement already satisfied: scikit-learn==1.5.0 in /usr/local/lib/python3.11/dist-packages (from -r /content/Hands-On-Large-Language-Models/requirements.txt (line 15)) (1.5.0)\n",
            "Requirement already satisfied: sentencepiece==0.2.0 in /usr/local/lib/python3.11/dist-packages (from -r /content/Hands-On-Large-Language-Models/requirements.txt (line 16)) (0.2.0)\n",
            "Requirement already satisfied: nltk==3.8.1 in /usr/local/lib/python3.11/dist-packages (from -r /content/Hands-On-Large-Language-Models/requirements.txt (line 17)) (3.8.1)\n",
            "Requirement already satisfied: evaluate==0.4.2 in /usr/local/lib/python3.11/dist-packages (from -r /content/Hands-On-Large-Language-Models/requirements.txt (line 18)) (0.4.2)\n",
            "Requirement already satisfied: scipy>=1.15.0 in /usr/local/lib/python3.11/dist-packages (from -r /content/Hands-On-Large-Language-Models/requirements.txt (line 19)) (1.15.3)\n",
            "Requirement already satisfied: openai==1.34.0 in /usr/local/lib/python3.11/dist-packages (from -r /content/Hands-On-Large-Language-Models/requirements.txt (line 22)) (1.34.0)\n",
            "Requirement already satisfied: cohere==5.5.8 in /usr/local/lib/python3.11/dist-packages (from -r /content/Hands-On-Large-Language-Models/requirements.txt (line 23)) (5.5.8)\n",
            "Requirement already satisfied: datamapplot==0.3.0 in /usr/local/lib/python3.11/dist-packages (from -r /content/Hands-On-Large-Language-Models/requirements.txt (line 26)) (0.3.0)\n",
            "Requirement already satisfied: faiss-cpu==1.8.0 in /usr/local/lib/python3.11/dist-packages (from -r /content/Hands-On-Large-Language-Models/requirements.txt (line 27)) (1.8.0)\n",
            "Requirement already satisfied: bertopic==0.16.3 in /usr/local/lib/python3.11/dist-packages (from -r /content/Hands-On-Large-Language-Models/requirements.txt (line 28)) (0.16.3)\n",
            "Requirement already satisfied: annoy==1.17.3 in /usr/local/lib/python3.11/dist-packages (from -r /content/Hands-On-Large-Language-Models/requirements.txt (line 29)) (1.17.3)\n",
            "Requirement already satisfied: llama_cpp_python==0.2.78 in /usr/local/lib/python3.11/dist-packages (from -r /content/Hands-On-Large-Language-Models/requirements.txt (line 30)) (0.2.78)\n",
            "Requirement already satisfied: numexpr==2.10.0 in /usr/local/lib/python3.11/dist-packages (from -r /content/Hands-On-Large-Language-Models/requirements.txt (line 31)) (2.10.0)\n",
            "Requirement already satisfied: langchain==0.2.5 in /usr/local/lib/python3.11/dist-packages (from -r /content/Hands-On-Large-Language-Models/requirements.txt (line 32)) (0.2.5)\n",
            "Requirement already satisfied: langchain-community==0.2.5 in /usr/local/lib/python3.11/dist-packages (from -r /content/Hands-On-Large-Language-Models/requirements.txt (line 33)) (0.2.5)\n",
            "Requirement already satisfied: langchain-openai==0.1.8 in /usr/local/lib/python3.11/dist-packages (from -r /content/Hands-On-Large-Language-Models/requirements.txt (line 34)) (0.1.8)\n",
            "Requirement already satisfied: duckduckgo-search==7.1.1 in /usr/local/lib/python3.11/dist-packages (from -r /content/Hands-On-Large-Language-Models/requirements.txt (line 35)) (7.1.1)\n",
            "Requirement already satisfied: gensim==4.3.2 in /usr/local/lib/python3.11/dist-packages (from -r /content/Hands-On-Large-Language-Models/requirements.txt (line 36)) (4.3.2)\n",
            "Requirement already satisfied: setfit==1.0.3 in /usr/local/lib/python3.11/dist-packages (from -r /content/Hands-On-Large-Language-Models/requirements.txt (line 37)) (1.0.3)\n",
            "Requirement already satisfied: seqeval==1.2.2 in /usr/local/lib/python3.11/dist-packages (from -r /content/Hands-On-Large-Language-Models/requirements.txt (line 38)) (1.2.2)\n",
            "Requirement already satisfied: trl==0.9.4 in /usr/local/lib/python3.11/dist-packages (from -r /content/Hands-On-Large-Language-Models/requirements.txt (line 39)) (0.9.4)\n",
            "Requirement already satisfied: peft==0.11.1 in /usr/local/lib/python3.11/dist-packages (from -r /content/Hands-On-Large-Language-Models/requirements.txt (line 40)) (0.11.1)\n",
            "Requirement already satisfied: accelerate==0.31.0 in /usr/local/lib/python3.11/dist-packages (from -r /content/Hands-On-Large-Language-Models/requirements.txt (line 41)) (0.31.0)\n",
            "Requirement already satisfied: bitsandbytes==0.43.1 in /usr/local/lib/python3.11/dist-packages (from -r /content/Hands-On-Large-Language-Models/requirements.txt (line 42)) (0.43.1)\n",
            "Requirement already satisfied: mteb==1.12.39 in /usr/local/lib/python3.11/dist-packages (from -r /content/Hands-On-Large-Language-Models/requirements.txt (line 43)) (1.12.39)\n",
            "Requirement already satisfied: python-dateutil>=2.8.2 in /usr/local/lib/python3.11/dist-packages (from pandas==2.2.2->-r /content/Hands-On-Large-Language-Models/requirements.txt (line 3)) (2.9.0.post0)\n",
            "Requirement already satisfied: pytz>=2020.1 in /usr/local/lib/python3.11/dist-packages (from pandas==2.2.2->-r /content/Hands-On-Large-Language-Models/requirements.txt (line 3)) (2025.2)\n",
            "Requirement already satisfied: tzdata>=2022.7 in /usr/local/lib/python3.11/dist-packages (from pandas==2.2.2->-r /content/Hands-On-Large-Language-Models/requirements.txt (line 3)) (2025.2)\n",
            "Requirement already satisfied: filelock in /usr/local/lib/python3.11/dist-packages (from datasets==2.20.0->-r /content/Hands-On-Large-Language-Models/requirements.txt (line 4)) (3.18.0)\n",
            "Requirement already satisfied: pyarrow>=15.0.0 in /usr/local/lib/python3.11/dist-packages (from datasets==2.20.0->-r /content/Hands-On-Large-Language-Models/requirements.txt (line 4)) (18.1.0)\n",
            "Requirement already satisfied: pyarrow-hotfix in /usr/local/lib/python3.11/dist-packages (from datasets==2.20.0->-r /content/Hands-On-Large-Language-Models/requirements.txt (line 4)) (0.7)\n",
            "Requirement already satisfied: dill<0.3.9,>=0.3.0 in /usr/local/lib/python3.11/dist-packages (from datasets==2.20.0->-r /content/Hands-On-Large-Language-Models/requirements.txt (line 4)) (0.3.7)\n",
            "Requirement already satisfied: requests>=2.32.2 in /usr/local/lib/python3.11/dist-packages (from datasets==2.20.0->-r /content/Hands-On-Large-Language-Models/requirements.txt (line 4)) (2.32.3)\n",
            "Requirement already satisfied: tqdm>=4.66.3 in /usr/local/lib/python3.11/dist-packages (from datasets==2.20.0->-r /content/Hands-On-Large-Language-Models/requirements.txt (line 4)) (4.67.1)\n",
            "Requirement already satisfied: xxhash in /usr/local/lib/python3.11/dist-packages (from datasets==2.20.0->-r /content/Hands-On-Large-Language-Models/requirements.txt (line 4)) (3.5.0)\n",
            "Requirement already satisfied: multiprocess in /usr/local/lib/python3.11/dist-packages (from datasets==2.20.0->-r /content/Hands-On-Large-Language-Models/requirements.txt (line 4)) (0.70.15)\n",
            "Requirement already satisfied: fsspec<=2024.5.0,>=2023.1.0 in /usr/local/lib/python3.11/dist-packages (from fsspec[http]<=2024.5.0,>=2023.1.0->datasets==2.20.0->-r /content/Hands-On-Large-Language-Models/requirements.txt (line 4)) (2024.5.0)\n",
            "Requirement already satisfied: aiohttp in /usr/local/lib/python3.11/dist-packages (from datasets==2.20.0->-r /content/Hands-On-Large-Language-Models/requirements.txt (line 4)) (3.11.15)\n",
            "Requirement already satisfied: huggingface-hub>=0.21.2 in /usr/local/lib/python3.11/dist-packages (from datasets==2.20.0->-r /content/Hands-On-Large-Language-Models/requirements.txt (line 4)) (0.32.4)\n",
            "Requirement already satisfied: packaging in /usr/local/lib/python3.11/dist-packages (from datasets==2.20.0->-r /content/Hands-On-Large-Language-Models/requirements.txt (line 4)) (24.2)\n",
            "Requirement already satisfied: pyyaml>=5.1 in /usr/local/lib/python3.11/dist-packages (from datasets==2.20.0->-r /content/Hands-On-Large-Language-Models/requirements.txt (line 4)) (6.0.2)\n",
            "Requirement already satisfied: async-lru>=1.0.0 in /usr/local/lib/python3.11/dist-packages (from jupyterlab==4.2.2->-r /content/Hands-On-Large-Language-Models/requirements.txt (line 7)) (2.0.5)\n",
            "Requirement already satisfied: httpx>=0.25.0 in /usr/local/lib/python3.11/dist-packages (from jupyterlab==4.2.2->-r /content/Hands-On-Large-Language-Models/requirements.txt (line 7)) (0.28.1)\n",
            "Requirement already satisfied: ipykernel>=6.5.0 in /usr/local/lib/python3.11/dist-packages (from jupyterlab==4.2.2->-r /content/Hands-On-Large-Language-Models/requirements.txt (line 7)) (6.17.1)\n",
            "Requirement already satisfied: jinja2>=3.0.3 in /usr/local/lib/python3.11/dist-packages (from jupyterlab==4.2.2->-r /content/Hands-On-Large-Language-Models/requirements.txt (line 7)) (3.1.6)\n",
            "Requirement already satisfied: jupyter-core in /usr/local/lib/python3.11/dist-packages (from jupyterlab==4.2.2->-r /content/Hands-On-Large-Language-Models/requirements.txt (line 7)) (5.8.1)\n",
            "Requirement already satisfied: jupyter-lsp>=2.0.0 in /usr/local/lib/python3.11/dist-packages (from jupyterlab==4.2.2->-r /content/Hands-On-Large-Language-Models/requirements.txt (line 7)) (2.2.5)\n",
            "Requirement already satisfied: jupyter-server<3,>=2.4.0 in /usr/local/lib/python3.11/dist-packages (from jupyterlab==4.2.2->-r /content/Hands-On-Large-Language-Models/requirements.txt (line 7)) (2.16.0)\n",
            "Requirement already satisfied: jupyterlab-server<3,>=2.27.1 in /usr/local/lib/python3.11/dist-packages (from jupyterlab==4.2.2->-r /content/Hands-On-Large-Language-Models/requirements.txt (line 7)) (2.27.3)\n",
            "Requirement already satisfied: notebook-shim>=0.2 in /usr/local/lib/python3.11/dist-packages (from jupyterlab==4.2.2->-r /content/Hands-On-Large-Language-Models/requirements.txt (line 7)) (0.2.4)\n",
            "Requirement already satisfied: setuptools>=40.1.0 in /usr/local/lib/python3.11/dist-packages (from jupyterlab==4.2.2->-r /content/Hands-On-Large-Language-Models/requirements.txt (line 7)) (75.2.0)\n",
            "Requirement already satisfied: tornado>=6.2.0 in /usr/local/lib/python3.11/dist-packages (from jupyterlab==4.2.2->-r /content/Hands-On-Large-Language-Models/requirements.txt (line 7)) (6.4.2)\n",
            "Requirement already satisfied: traitlets in /usr/local/lib/python3.11/dist-packages (from jupyterlab==4.2.2->-r /content/Hands-On-Large-Language-Models/requirements.txt (line 7)) (5.7.1)\n",
            "Requirement already satisfied: comm>=0.1.3 in /usr/local/lib/python3.11/dist-packages (from ipywidgets==8.1.3->-r /content/Hands-On-Large-Language-Models/requirements.txt (line 8)) (0.2.2)\n",
            "Requirement already satisfied: ipython>=6.1.0 in /usr/local/lib/python3.11/dist-packages (from ipywidgets==8.1.3->-r /content/Hands-On-Large-Language-Models/requirements.txt (line 8)) (7.34.0)\n",
            "Requirement already satisfied: widgetsnbextension~=4.0.11 in /usr/local/lib/python3.11/dist-packages (from ipywidgets==8.1.3->-r /content/Hands-On-Large-Language-Models/requirements.txt (line 8)) (4.0.14)\n",
            "Requirement already satisfied: jupyterlab-widgets~=3.0.11 in /usr/local/lib/python3.11/dist-packages (from ipywidgets==8.1.3->-r /content/Hands-On-Large-Language-Models/requirements.txt (line 8)) (3.0.15)\n",
            "Requirement already satisfied: typing-extensions>=4.8.0 in /usr/local/lib/python3.11/dist-packages (from torch==2.3.1->-r /content/Hands-On-Large-Language-Models/requirements.txt (line 11)) (4.14.0)\n",
            "Requirement already satisfied: sympy in /usr/local/lib/python3.11/dist-packages (from torch==2.3.1->-r /content/Hands-On-Large-Language-Models/requirements.txt (line 11)) (1.13.1)\n",
            "Requirement already satisfied: networkx in /usr/local/lib/python3.11/dist-packages (from torch==2.3.1->-r /content/Hands-On-Large-Language-Models/requirements.txt (line 11)) (3.5)\n",
            "Requirement already satisfied: nvidia-cuda-nvrtc-cu12==12.1.105 in /usr/local/lib/python3.11/dist-packages (from torch==2.3.1->-r /content/Hands-On-Large-Language-Models/requirements.txt (line 11)) (12.1.105)\n",
            "Requirement already satisfied: nvidia-cuda-runtime-cu12==12.1.105 in /usr/local/lib/python3.11/dist-packages (from torch==2.3.1->-r /content/Hands-On-Large-Language-Models/requirements.txt (line 11)) (12.1.105)\n",
            "Requirement already satisfied: nvidia-cuda-cupti-cu12==12.1.105 in /usr/local/lib/python3.11/dist-packages (from torch==2.3.1->-r /content/Hands-On-Large-Language-Models/requirements.txt (line 11)) (12.1.105)\n",
            "Requirement already satisfied: nvidia-cudnn-cu12==8.9.2.26 in /usr/local/lib/python3.11/dist-packages (from torch==2.3.1->-r /content/Hands-On-Large-Language-Models/requirements.txt (line 11)) (8.9.2.26)\n",
            "Requirement already satisfied: nvidia-cublas-cu12==12.1.3.1 in /usr/local/lib/python3.11/dist-packages (from torch==2.3.1->-r /content/Hands-On-Large-Language-Models/requirements.txt (line 11)) (12.1.3.1)\n",
            "Requirement already satisfied: nvidia-cufft-cu12==11.0.2.54 in /usr/local/lib/python3.11/dist-packages (from torch==2.3.1->-r /content/Hands-On-Large-Language-Models/requirements.txt (line 11)) (11.0.2.54)\n",
            "Requirement already satisfied: nvidia-curand-cu12==10.3.2.106 in /usr/local/lib/python3.11/dist-packages (from torch==2.3.1->-r /content/Hands-On-Large-Language-Models/requirements.txt (line 11)) (10.3.2.106)\n",
            "Requirement already satisfied: nvidia-cusolver-cu12==11.4.5.107 in /usr/local/lib/python3.11/dist-packages (from torch==2.3.1->-r /content/Hands-On-Large-Language-Models/requirements.txt (line 11)) (11.4.5.107)\n",
            "Requirement already satisfied: nvidia-cusparse-cu12==12.1.0.106 in /usr/local/lib/python3.11/dist-packages (from torch==2.3.1->-r /content/Hands-On-Large-Language-Models/requirements.txt (line 11)) (12.1.0.106)\n",
            "Requirement already satisfied: nvidia-nccl-cu12==2.20.5 in /usr/local/lib/python3.11/dist-packages (from torch==2.3.1->-r /content/Hands-On-Large-Language-Models/requirements.txt (line 11)) (2.20.5)\n",
            "Requirement already satisfied: nvidia-nvtx-cu12==12.1.105 in /usr/local/lib/python3.11/dist-packages (from torch==2.3.1->-r /content/Hands-On-Large-Language-Models/requirements.txt (line 11)) (12.1.105)\n",
            "Requirement already satisfied: triton==2.3.1 in /usr/local/lib/python3.11/dist-packages (from torch==2.3.1->-r /content/Hands-On-Large-Language-Models/requirements.txt (line 11)) (2.3.1)\n",
            "Requirement already satisfied: regex!=2019.12.17 in /usr/local/lib/python3.11/dist-packages (from transformers==4.41.2->-r /content/Hands-On-Large-Language-Models/requirements.txt (line 12)) (2024.11.6)\n",
            "Requirement already satisfied: tokenizers<0.20,>=0.19 in /usr/local/lib/python3.11/dist-packages (from transformers==4.41.2->-r /content/Hands-On-Large-Language-Models/requirements.txt (line 12)) (0.19.1)\n",
            "Requirement already satisfied: safetensors>=0.4.1 in /usr/local/lib/python3.11/dist-packages (from transformers==4.41.2->-r /content/Hands-On-Large-Language-Models/requirements.txt (line 12)) (0.5.3)\n",
            "Requirement already satisfied: Pillow in /usr/local/lib/python3.11/dist-packages (from sentence-transformers==3.0.1->-r /content/Hands-On-Large-Language-Models/requirements.txt (line 13)) (11.2.1)\n",
            "Requirement already satisfied: contourpy>=1.0.1 in /usr/local/lib/python3.11/dist-packages (from matplotlib==3.9.0->-r /content/Hands-On-Large-Language-Models/requirements.txt (line 14)) (1.3.2)\n",
            "Requirement already satisfied: cycler>=0.10 in /usr/local/lib/python3.11/dist-packages (from matplotlib==3.9.0->-r /content/Hands-On-Large-Language-Models/requirements.txt (line 14)) (0.12.1)\n",
            "Requirement already satisfied: fonttools>=4.22.0 in /usr/local/lib/python3.11/dist-packages (from matplotlib==3.9.0->-r /content/Hands-On-Large-Language-Models/requirements.txt (line 14)) (4.58.1)\n",
            "Requirement already satisfied: kiwisolver>=1.3.1 in /usr/local/lib/python3.11/dist-packages (from matplotlib==3.9.0->-r /content/Hands-On-Large-Language-Models/requirements.txt (line 14)) (1.4.8)\n",
            "Requirement already satisfied: pyparsing>=2.3.1 in /usr/local/lib/python3.11/dist-packages (from matplotlib==3.9.0->-r /content/Hands-On-Large-Language-Models/requirements.txt (line 14)) (3.2.3)\n",
            "Requirement already satisfied: joblib>=1.2.0 in /usr/local/lib/python3.11/dist-packages (from scikit-learn==1.5.0->-r /content/Hands-On-Large-Language-Models/requirements.txt (line 15)) (1.5.1)\n",
            "Requirement already satisfied: threadpoolctl>=3.1.0 in /usr/local/lib/python3.11/dist-packages (from scikit-learn==1.5.0->-r /content/Hands-On-Large-Language-Models/requirements.txt (line 15)) (3.6.0)\n",
            "Requirement already satisfied: click in /usr/local/lib/python3.11/dist-packages (from nltk==3.8.1->-r /content/Hands-On-Large-Language-Models/requirements.txt (line 17)) (8.2.1)\n",
            "Requirement already satisfied: anyio<5,>=3.5.0 in /usr/local/lib/python3.11/dist-packages (from openai==1.34.0->-r /content/Hands-On-Large-Language-Models/requirements.txt (line 22)) (4.9.0)\n",
            "Requirement already satisfied: distro<2,>=1.7.0 in /usr/local/lib/python3.11/dist-packages (from openai==1.34.0->-r /content/Hands-On-Large-Language-Models/requirements.txt (line 22)) (1.9.0)\n",
            "Requirement already satisfied: pydantic<3,>=1.9.0 in /usr/local/lib/python3.11/dist-packages (from openai==1.34.0->-r /content/Hands-On-Large-Language-Models/requirements.txt (line 22)) (2.11.5)\n",
            "Requirement already satisfied: sniffio in /usr/local/lib/python3.11/dist-packages (from openai==1.34.0->-r /content/Hands-On-Large-Language-Models/requirements.txt (line 22)) (1.3.1)\n",
            "Requirement already satisfied: boto3<2.0.0,>=1.34.0 in /usr/local/lib/python3.11/dist-packages (from cohere==5.5.8->-r /content/Hands-On-Large-Language-Models/requirements.txt (line 23)) (1.38.36)\n",
            "Requirement already satisfied: fastavro<2.0.0,>=1.9.4 in /usr/local/lib/python3.11/dist-packages (from cohere==5.5.8->-r /content/Hands-On-Large-Language-Models/requirements.txt (line 23)) (1.11.1)\n",
            "Requirement already satisfied: httpx-sse<0.5.0,>=0.4.0 in /usr/local/lib/python3.11/dist-packages (from cohere==5.5.8->-r /content/Hands-On-Large-Language-Models/requirements.txt (line 23)) (0.4.0)\n",
            "Requirement already satisfied: parameterized<0.10.0,>=0.9.0 in /usr/local/lib/python3.11/dist-packages (from cohere==5.5.8->-r /content/Hands-On-Large-Language-Models/requirements.txt (line 23)) (0.9.0)\n",
            "Requirement already satisfied: types-requests<3.0.0,>=2.0.0 in /usr/local/lib/python3.11/dist-packages (from cohere==5.5.8->-r /content/Hands-On-Large-Language-Models/requirements.txt (line 23)) (2.32.4.20250611)\n",
            "Requirement already satisfied: datashader>=0.16 in /usr/local/lib/python3.11/dist-packages (from datamapplot==0.3.0->-r /content/Hands-On-Large-Language-Models/requirements.txt (line 26)) (0.18.1)\n",
            "Requirement already satisfied: colorspacious>=1.1 in /usr/local/lib/python3.11/dist-packages (from datamapplot==0.3.0->-r /content/Hands-On-Large-Language-Models/requirements.txt (line 26)) (1.1.2)\n",
            "Requirement already satisfied: scikit-image>=0.22 in /usr/local/lib/python3.11/dist-packages (from datamapplot==0.3.0->-r /content/Hands-On-Large-Language-Models/requirements.txt (line 26)) (0.25.2)\n",
            "Requirement already satisfied: numba>=0.56 in /usr/local/lib/python3.11/dist-packages (from datamapplot==0.3.0->-r /content/Hands-On-Large-Language-Models/requirements.txt (line 26)) (0.60.0)\n",
            "Requirement already satisfied: pylabeladjust in /usr/local/lib/python3.11/dist-packages (from datamapplot==0.3.0->-r /content/Hands-On-Large-Language-Models/requirements.txt (line 26)) (0.1.13)\n",
            "Requirement already satisfied: hdbscan>=0.8.29 in /usr/local/lib/python3.11/dist-packages (from bertopic==0.16.3->-r /content/Hands-On-Large-Language-Models/requirements.txt (line 28)) (0.8.40)\n",
            "Requirement already satisfied: plotly>=4.7.0 in /usr/local/lib/python3.11/dist-packages (from bertopic==0.16.3->-r /content/Hands-On-Large-Language-Models/requirements.txt (line 28)) (5.24.1)\n",
            "Requirement already satisfied: umap-learn>=0.5.0 in /usr/local/lib/python3.11/dist-packages (from bertopic==0.16.3->-r /content/Hands-On-Large-Language-Models/requirements.txt (line 28)) (0.5.7)\n",
            "Requirement already satisfied: diskcache>=5.6.1 in /usr/local/lib/python3.11/dist-packages (from llama_cpp_python==0.2.78->-r /content/Hands-On-Large-Language-Models/requirements.txt (line 30)) (5.6.3)\n",
            "Requirement already satisfied: SQLAlchemy<3,>=1.4 in /usr/local/lib/python3.11/dist-packages (from langchain==0.2.5->-r /content/Hands-On-Large-Language-Models/requirements.txt (line 32)) (2.0.41)\n",
            "Requirement already satisfied: langchain-core<0.3.0,>=0.2.7 in /usr/local/lib/python3.11/dist-packages (from langchain==0.2.5->-r /content/Hands-On-Large-Language-Models/requirements.txt (line 32)) (0.2.43)\n",
            "Requirement already satisfied: langchain-text-splitters<0.3.0,>=0.2.0 in /usr/local/lib/python3.11/dist-packages (from langchain==0.2.5->-r /content/Hands-On-Large-Language-Models/requirements.txt (line 32)) (0.2.4)\n",
            "Requirement already satisfied: langsmith<0.2.0,>=0.1.17 in /usr/local/lib/python3.11/dist-packages (from langchain==0.2.5->-r /content/Hands-On-Large-Language-Models/requirements.txt (line 32)) (0.1.147)\n",
            "Requirement already satisfied: tenacity<9.0.0,>=8.1.0 in /usr/local/lib/python3.11/dist-packages (from langchain==0.2.5->-r /content/Hands-On-Large-Language-Models/requirements.txt (line 32)) (8.5.0)\n",
            "Requirement already satisfied: dataclasses-json<0.7,>=0.5.7 in /usr/local/lib/python3.11/dist-packages (from langchain-community==0.2.5->-r /content/Hands-On-Large-Language-Models/requirements.txt (line 33)) (0.6.7)\n",
            "Requirement already satisfied: tiktoken<1,>=0.7 in /usr/local/lib/python3.11/dist-packages (from langchain-openai==0.1.8->-r /content/Hands-On-Large-Language-Models/requirements.txt (line 34)) (0.9.0)\n",
            "Requirement already satisfied: primp>=0.9.2 in /usr/local/lib/python3.11/dist-packages (from duckduckgo-search==7.1.1->-r /content/Hands-On-Large-Language-Models/requirements.txt (line 35)) (0.15.0)\n",
            "Requirement already satisfied: lxml>=5.3.0 in /usr/local/lib/python3.11/dist-packages (from duckduckgo-search==7.1.1->-r /content/Hands-On-Large-Language-Models/requirements.txt (line 35)) (5.4.0)\n",
            "Requirement already satisfied: smart-open>=1.8.1 in /usr/local/lib/python3.11/dist-packages (from gensim==4.3.2->-r /content/Hands-On-Large-Language-Models/requirements.txt (line 36)) (7.1.0)\n",
            "Requirement already satisfied: tyro>=0.5.11 in /usr/local/lib/python3.11/dist-packages (from trl==0.9.4->-r /content/Hands-On-Large-Language-Models/requirements.txt (line 39)) (0.9.24)\n",
            "Requirement already satisfied: psutil in /usr/local/lib/python3.11/dist-packages (from peft==0.11.1->-r /content/Hands-On-Large-Language-Models/requirements.txt (line 40)) (5.9.5)\n",
            "Requirement already satisfied: rich>=0.0.0 in /usr/local/lib/python3.11/dist-packages (from mteb==1.12.39->-r /content/Hands-On-Large-Language-Models/requirements.txt (line 43)) (13.9.4)\n",
            "Requirement already satisfied: pytrec-eval-terrier>=0.5.6 in /usr/local/lib/python3.11/dist-packages (from mteb==1.12.39->-r /content/Hands-On-Large-Language-Models/requirements.txt (line 43)) (0.5.7)\n",
            "Requirement already satisfied: eval-type-backport>=0.0.0 in /usr/local/lib/python3.11/dist-packages (from mteb==1.12.39->-r /content/Hands-On-Large-Language-Models/requirements.txt (line 43)) (0.2.2)\n",
            "Requirement already satisfied: polars>=0.20.22 in /usr/local/lib/python3.11/dist-packages (from mteb==1.12.39->-r /content/Hands-On-Large-Language-Models/requirements.txt (line 43)) (1.21.0)\n",
            "Requirement already satisfied: nvidia-nvjitlink-cu12 in /usr/local/lib/python3.11/dist-packages (from nvidia-cusolver-cu12==11.4.5.107->torch==2.3.1->-r /content/Hands-On-Large-Language-Models/requirements.txt (line 11)) (12.5.82)\n",
            "Requirement already satisfied: aiohappyeyeballs>=2.3.0 in /usr/local/lib/python3.11/dist-packages (from aiohttp->datasets==2.20.0->-r /content/Hands-On-Large-Language-Models/requirements.txt (line 4)) (2.6.1)\n",
            "Requirement already satisfied: aiosignal>=1.1.2 in /usr/local/lib/python3.11/dist-packages (from aiohttp->datasets==2.20.0->-r /content/Hands-On-Large-Language-Models/requirements.txt (line 4)) (1.3.2)\n",
            "Requirement already satisfied: attrs>=17.3.0 in /usr/local/lib/python3.11/dist-packages (from aiohttp->datasets==2.20.0->-r /content/Hands-On-Large-Language-Models/requirements.txt (line 4)) (25.3.0)\n",
            "Requirement already satisfied: frozenlist>=1.1.1 in /usr/local/lib/python3.11/dist-packages (from aiohttp->datasets==2.20.0->-r /content/Hands-On-Large-Language-Models/requirements.txt (line 4)) (1.6.0)\n",
            "Requirement already satisfied: multidict<7.0,>=4.5 in /usr/local/lib/python3.11/dist-packages (from aiohttp->datasets==2.20.0->-r /content/Hands-On-Large-Language-Models/requirements.txt (line 4)) (6.4.4)\n",
            "Requirement already satisfied: propcache>=0.2.0 in /usr/local/lib/python3.11/dist-packages (from aiohttp->datasets==2.20.0->-r /content/Hands-On-Large-Language-Models/requirements.txt (line 4)) (0.3.1)\n",
            "Requirement already satisfied: yarl<2.0,>=1.17.0 in /usr/local/lib/python3.11/dist-packages (from aiohttp->datasets==2.20.0->-r /content/Hands-On-Large-Language-Models/requirements.txt (line 4)) (1.20.0)\n",
            "Requirement already satisfied: idna>=2.8 in /usr/local/lib/python3.11/dist-packages (from anyio<5,>=3.5.0->openai==1.34.0->-r /content/Hands-On-Large-Language-Models/requirements.txt (line 22)) (3.10)\n",
            "Requirement already satisfied: botocore<1.39.0,>=1.38.36 in /usr/local/lib/python3.11/dist-packages (from boto3<2.0.0,>=1.34.0->cohere==5.5.8->-r /content/Hands-On-Large-Language-Models/requirements.txt (line 23)) (1.38.36)\n",
            "Requirement already satisfied: jmespath<2.0.0,>=0.7.1 in /usr/local/lib/python3.11/dist-packages (from boto3<2.0.0,>=1.34.0->cohere==5.5.8->-r /content/Hands-On-Large-Language-Models/requirements.txt (line 23)) (1.0.1)\n",
            "Requirement already satisfied: s3transfer<0.14.0,>=0.13.0 in /usr/local/lib/python3.11/dist-packages (from boto3<2.0.0,>=1.34.0->cohere==5.5.8->-r /content/Hands-On-Large-Language-Models/requirements.txt (line 23)) (0.13.0)\n",
            "Requirement already satisfied: marshmallow<4.0.0,>=3.18.0 in /usr/local/lib/python3.11/dist-packages (from dataclasses-json<0.7,>=0.5.7->langchain-community==0.2.5->-r /content/Hands-On-Large-Language-Models/requirements.txt (line 33)) (3.26.1)\n",
            "Requirement already satisfied: typing-inspect<1,>=0.4.0 in /usr/local/lib/python3.11/dist-packages (from dataclasses-json<0.7,>=0.5.7->langchain-community==0.2.5->-r /content/Hands-On-Large-Language-Models/requirements.txt (line 33)) (0.9.0)\n",
            "Requirement already satisfied: colorcet in /usr/local/lib/python3.11/dist-packages (from datashader>=0.16->datamapplot==0.3.0->-r /content/Hands-On-Large-Language-Models/requirements.txt (line 26)) (3.1.0)\n",
            "Requirement already satisfied: multipledispatch in /usr/local/lib/python3.11/dist-packages (from datashader>=0.16->datamapplot==0.3.0->-r /content/Hands-On-Large-Language-Models/requirements.txt (line 26)) (1.0.0)\n",
            "Requirement already satisfied: param in /usr/local/lib/python3.11/dist-packages (from datashader>=0.16->datamapplot==0.3.0->-r /content/Hands-On-Large-Language-Models/requirements.txt (line 26)) (2.2.0)\n",
            "Requirement already satisfied: pyct in /usr/local/lib/python3.11/dist-packages (from datashader>=0.16->datamapplot==0.3.0->-r /content/Hands-On-Large-Language-Models/requirements.txt (line 26)) (0.5.0)\n",
            "Requirement already satisfied: toolz in /usr/local/lib/python3.11/dist-packages (from datashader>=0.16->datamapplot==0.3.0->-r /content/Hands-On-Large-Language-Models/requirements.txt (line 26)) (0.12.1)\n",
            "Requirement already satisfied: xarray in /usr/local/lib/python3.11/dist-packages (from datashader>=0.16->datamapplot==0.3.0->-r /content/Hands-On-Large-Language-Models/requirements.txt (line 26)) (2025.3.1)\n",
            "Requirement already satisfied: certifi in /usr/local/lib/python3.11/dist-packages (from httpx>=0.25.0->jupyterlab==4.2.2->-r /content/Hands-On-Large-Language-Models/requirements.txt (line 7)) (2025.4.26)\n",
            "Requirement already satisfied: httpcore==1.* in /usr/local/lib/python3.11/dist-packages (from httpx>=0.25.0->jupyterlab==4.2.2->-r /content/Hands-On-Large-Language-Models/requirements.txt (line 7)) (1.0.9)\n",
            "Requirement already satisfied: h11>=0.16 in /usr/local/lib/python3.11/dist-packages (from httpcore==1.*->httpx>=0.25.0->jupyterlab==4.2.2->-r /content/Hands-On-Large-Language-Models/requirements.txt (line 7)) (0.16.0)\n",
            "Requirement already satisfied: hf-xet<2.0.0,>=1.1.2 in /usr/local/lib/python3.11/dist-packages (from huggingface-hub>=0.21.2->datasets==2.20.0->-r /content/Hands-On-Large-Language-Models/requirements.txt (line 4)) (1.1.2)\n",
            "Requirement already satisfied: debugpy>=1.0 in /usr/local/lib/python3.11/dist-packages (from ipykernel>=6.5.0->jupyterlab==4.2.2->-r /content/Hands-On-Large-Language-Models/requirements.txt (line 7)) (1.8.0)\n",
            "Requirement already satisfied: jupyter-client>=6.1.12 in /usr/local/lib/python3.11/dist-packages (from ipykernel>=6.5.0->jupyterlab==4.2.2->-r /content/Hands-On-Large-Language-Models/requirements.txt (line 7)) (8.6.3)\n",
            "Requirement already satisfied: matplotlib-inline>=0.1 in /usr/local/lib/python3.11/dist-packages (from ipykernel>=6.5.0->jupyterlab==4.2.2->-r /content/Hands-On-Large-Language-Models/requirements.txt (line 7)) (0.1.7)\n",
            "Requirement already satisfied: nest-asyncio in /usr/local/lib/python3.11/dist-packages (from ipykernel>=6.5.0->jupyterlab==4.2.2->-r /content/Hands-On-Large-Language-Models/requirements.txt (line 7)) (1.6.0)\n",
            "Requirement already satisfied: pyzmq>=17 in /usr/local/lib/python3.11/dist-packages (from ipykernel>=6.5.0->jupyterlab==4.2.2->-r /content/Hands-On-Large-Language-Models/requirements.txt (line 7)) (24.0.1)\n",
            "Requirement already satisfied: jedi>=0.16 in /usr/local/lib/python3.11/dist-packages (from ipython>=6.1.0->ipywidgets==8.1.3->-r /content/Hands-On-Large-Language-Models/requirements.txt (line 8)) (0.19.2)\n",
            "Requirement already satisfied: decorator in /usr/local/lib/python3.11/dist-packages (from ipython>=6.1.0->ipywidgets==8.1.3->-r /content/Hands-On-Large-Language-Models/requirements.txt (line 8)) (4.4.2)\n",
            "Requirement already satisfied: pickleshare in /usr/local/lib/python3.11/dist-packages (from ipython>=6.1.0->ipywidgets==8.1.3->-r /content/Hands-On-Large-Language-Models/requirements.txt (line 8)) (0.7.5)\n",
            "Requirement already satisfied: prompt-toolkit!=3.0.0,!=3.0.1,<3.1.0,>=2.0.0 in /usr/local/lib/python3.11/dist-packages (from ipython>=6.1.0->ipywidgets==8.1.3->-r /content/Hands-On-Large-Language-Models/requirements.txt (line 8)) (3.0.51)\n",
            "Requirement already satisfied: pygments in /usr/local/lib/python3.11/dist-packages (from ipython>=6.1.0->ipywidgets==8.1.3->-r /content/Hands-On-Large-Language-Models/requirements.txt (line 8)) (2.19.1)\n",
            "Requirement already satisfied: backcall in /usr/local/lib/python3.11/dist-packages (from ipython>=6.1.0->ipywidgets==8.1.3->-r /content/Hands-On-Large-Language-Models/requirements.txt (line 8)) (0.2.0)\n",
            "Requirement already satisfied: pexpect>4.3 in /usr/local/lib/python3.11/dist-packages (from ipython>=6.1.0->ipywidgets==8.1.3->-r /content/Hands-On-Large-Language-Models/requirements.txt (line 8)) (4.9.0)\n",
            "Requirement already satisfied: MarkupSafe>=2.0 in /usr/local/lib/python3.11/dist-packages (from jinja2>=3.0.3->jupyterlab==4.2.2->-r /content/Hands-On-Large-Language-Models/requirements.txt (line 7)) (3.0.2)\n",
            "Requirement already satisfied: argon2-cffi>=21.1 in /usr/local/lib/python3.11/dist-packages (from jupyter-server<3,>=2.4.0->jupyterlab==4.2.2->-r /content/Hands-On-Large-Language-Models/requirements.txt (line 7)) (25.1.0)\n",
            "Requirement already satisfied: jupyter-events>=0.11.0 in /usr/local/lib/python3.11/dist-packages (from jupyter-server<3,>=2.4.0->jupyterlab==4.2.2->-r /content/Hands-On-Large-Language-Models/requirements.txt (line 7)) (0.12.0)\n",
            "Requirement already satisfied: jupyter-server-terminals>=0.4.4 in /usr/local/lib/python3.11/dist-packages (from jupyter-server<3,>=2.4.0->jupyterlab==4.2.2->-r /content/Hands-On-Large-Language-Models/requirements.txt (line 7)) (0.5.3)\n",
            "Requirement already satisfied: nbconvert>=6.4.4 in /usr/local/lib/python3.11/dist-packages (from jupyter-server<3,>=2.4.0->jupyterlab==4.2.2->-r /content/Hands-On-Large-Language-Models/requirements.txt (line 7)) (7.16.6)\n",
            "Requirement already satisfied: nbformat>=5.3.0 in /usr/local/lib/python3.11/dist-packages (from jupyter-server<3,>=2.4.0->jupyterlab==4.2.2->-r /content/Hands-On-Large-Language-Models/requirements.txt (line 7)) (5.10.4)\n",
            "Requirement already satisfied: overrides>=5.0 in /usr/local/lib/python3.11/dist-packages (from jupyter-server<3,>=2.4.0->jupyterlab==4.2.2->-r /content/Hands-On-Large-Language-Models/requirements.txt (line 7)) (7.7.0)\n",
            "Requirement already satisfied: prometheus-client>=0.9 in /usr/local/lib/python3.11/dist-packages (from jupyter-server<3,>=2.4.0->jupyterlab==4.2.2->-r /content/Hands-On-Large-Language-Models/requirements.txt (line 7)) (0.22.1)\n",
            "Requirement already satisfied: send2trash>=1.8.2 in /usr/local/lib/python3.11/dist-packages (from jupyter-server<3,>=2.4.0->jupyterlab==4.2.2->-r /content/Hands-On-Large-Language-Models/requirements.txt (line 7)) (1.8.3)\n",
            "Requirement already satisfied: terminado>=0.8.3 in /usr/local/lib/python3.11/dist-packages (from jupyter-server<3,>=2.4.0->jupyterlab==4.2.2->-r /content/Hands-On-Large-Language-Models/requirements.txt (line 7)) (0.18.1)\n",
            "Requirement already satisfied: websocket-client>=1.7 in /usr/local/lib/python3.11/dist-packages (from jupyter-server<3,>=2.4.0->jupyterlab==4.2.2->-r /content/Hands-On-Large-Language-Models/requirements.txt (line 7)) (1.8.0)\n",
            "Requirement already satisfied: platformdirs>=2.5 in /usr/local/lib/python3.11/dist-packages (from jupyter-core->jupyterlab==4.2.2->-r /content/Hands-On-Large-Language-Models/requirements.txt (line 7)) (4.3.8)\n",
            "Requirement already satisfied: babel>=2.10 in /usr/local/lib/python3.11/dist-packages (from jupyterlab-server<3,>=2.27.1->jupyterlab==4.2.2->-r /content/Hands-On-Large-Language-Models/requirements.txt (line 7)) (2.17.0)\n",
            "Requirement already satisfied: json5>=0.9.0 in /usr/local/lib/python3.11/dist-packages (from jupyterlab-server<3,>=2.27.1->jupyterlab==4.2.2->-r /content/Hands-On-Large-Language-Models/requirements.txt (line 7)) (0.12.0)\n",
            "Requirement already satisfied: jsonschema>=4.18.0 in /usr/local/lib/python3.11/dist-packages (from jupyterlab-server<3,>=2.27.1->jupyterlab==4.2.2->-r /content/Hands-On-Large-Language-Models/requirements.txt (line 7)) (4.24.0)\n",
            "Requirement already satisfied: jsonpatch<2.0,>=1.33 in /usr/local/lib/python3.11/dist-packages (from langchain-core<0.3.0,>=0.2.7->langchain==0.2.5->-r /content/Hands-On-Large-Language-Models/requirements.txt (line 32)) (1.33)\n",
            "Requirement already satisfied: orjson<4.0.0,>=3.9.14 in /usr/local/lib/python3.11/dist-packages (from langsmith<0.2.0,>=0.1.17->langchain==0.2.5->-r /content/Hands-On-Large-Language-Models/requirements.txt (line 32)) (3.10.18)\n",
            "Requirement already satisfied: requests-toolbelt<2.0.0,>=1.0.0 in /usr/local/lib/python3.11/dist-packages (from langsmith<0.2.0,>=0.1.17->langchain==0.2.5->-r /content/Hands-On-Large-Language-Models/requirements.txt (line 32)) (1.0.0)\n",
            "Requirement already satisfied: llvmlite<0.44,>=0.43.0dev0 in /usr/local/lib/python3.11/dist-packages (from numba>=0.56->datamapplot==0.3.0->-r /content/Hands-On-Large-Language-Models/requirements.txt (line 26)) (0.43.0)\n",
            "Requirement already satisfied: annotated-types>=0.6.0 in /usr/local/lib/python3.11/dist-packages (from pydantic<3,>=1.9.0->openai==1.34.0->-r /content/Hands-On-Large-Language-Models/requirements.txt (line 22)) (0.7.0)\n",
            "Requirement already satisfied: pydantic-core==2.33.2 in /usr/local/lib/python3.11/dist-packages (from pydantic<3,>=1.9.0->openai==1.34.0->-r /content/Hands-On-Large-Language-Models/requirements.txt (line 22)) (2.33.2)\n",
            "Requirement already satisfied: typing-inspection>=0.4.0 in /usr/local/lib/python3.11/dist-packages (from pydantic<3,>=1.9.0->openai==1.34.0->-r /content/Hands-On-Large-Language-Models/requirements.txt (line 22)) (0.4.1)\n",
            "Requirement already satisfied: six>=1.5 in /usr/local/lib/python3.11/dist-packages (from python-dateutil>=2.8.2->pandas==2.2.2->-r /content/Hands-On-Large-Language-Models/requirements.txt (line 3)) (1.17.0)\n",
            "Requirement already satisfied: charset-normalizer<4,>=2 in /usr/local/lib/python3.11/dist-packages (from requests>=2.32.2->datasets==2.20.0->-r /content/Hands-On-Large-Language-Models/requirements.txt (line 4)) (3.4.2)\n",
            "Requirement already satisfied: urllib3<3,>=1.21.1 in /usr/local/lib/python3.11/dist-packages (from requests>=2.32.2->datasets==2.20.0->-r /content/Hands-On-Large-Language-Models/requirements.txt (line 4)) (2.4.0)\n",
            "Requirement already satisfied: markdown-it-py>=2.2.0 in /usr/local/lib/python3.11/dist-packages (from rich>=0.0.0->mteb==1.12.39->-r /content/Hands-On-Large-Language-Models/requirements.txt (line 43)) (3.0.0)\n",
            "Requirement already satisfied: imageio!=2.35.0,>=2.33 in /usr/local/lib/python3.11/dist-packages (from scikit-image>=0.22->datamapplot==0.3.0->-r /content/Hands-On-Large-Language-Models/requirements.txt (line 26)) (2.37.0)\n",
            "Requirement already satisfied: tifffile>=2022.8.12 in /usr/local/lib/python3.11/dist-packages (from scikit-image>=0.22->datamapplot==0.3.0->-r /content/Hands-On-Large-Language-Models/requirements.txt (line 26)) (2025.6.1)\n",
            "Requirement already satisfied: lazy-loader>=0.4 in /usr/local/lib/python3.11/dist-packages (from scikit-image>=0.22->datamapplot==0.3.0->-r /content/Hands-On-Large-Language-Models/requirements.txt (line 26)) (0.4)\n",
            "Requirement already satisfied: wrapt in /usr/local/lib/python3.11/dist-packages (from smart-open>=1.8.1->gensim==4.3.2->-r /content/Hands-On-Large-Language-Models/requirements.txt (line 36)) (1.17.2)\n",
            "Requirement already satisfied: greenlet>=1 in /usr/local/lib/python3.11/dist-packages (from SQLAlchemy<3,>=1.4->langchain==0.2.5->-r /content/Hands-On-Large-Language-Models/requirements.txt (line 32)) (3.2.2)\n",
            "Requirement already satisfied: docstring-parser>=0.15 in /usr/local/lib/python3.11/dist-packages (from tyro>=0.5.11->trl==0.9.4->-r /content/Hands-On-Large-Language-Models/requirements.txt (line 39)) (0.16)\n",
            "Requirement already satisfied: shtab>=1.5.6 in /usr/local/lib/python3.11/dist-packages (from tyro>=0.5.11->trl==0.9.4->-r /content/Hands-On-Large-Language-Models/requirements.txt (line 39)) (1.7.2)\n",
            "Requirement already satisfied: typeguard>=4.0.0 in /usr/local/lib/python3.11/dist-packages (from tyro>=0.5.11->trl==0.9.4->-r /content/Hands-On-Large-Language-Models/requirements.txt (line 39)) (4.4.2)\n",
            "Requirement already satisfied: pynndescent>=0.5 in /usr/local/lib/python3.11/dist-packages (from umap-learn>=0.5.0->bertopic==0.16.3->-r /content/Hands-On-Large-Language-Models/requirements.txt (line 28)) (0.5.13)\n",
            "Requirement already satisfied: Pyqtree<2.0.0,>=1.0.0 in /usr/local/lib/python3.11/dist-packages (from pylabeladjust->datamapplot==0.3.0->-r /content/Hands-On-Large-Language-Models/requirements.txt (line 26)) (1.0.0)\n",
            "Requirement already satisfied: mpmath<1.4,>=1.1.0 in /usr/local/lib/python3.11/dist-packages (from sympy->torch==2.3.1->-r /content/Hands-On-Large-Language-Models/requirements.txt (line 11)) (1.3.0)\n",
            "Requirement already satisfied: argon2-cffi-bindings in /usr/local/lib/python3.11/dist-packages (from argon2-cffi>=21.1->jupyter-server<3,>=2.4.0->jupyterlab==4.2.2->-r /content/Hands-On-Large-Language-Models/requirements.txt (line 7)) (21.2.0)\n",
            "Requirement already satisfied: parso<0.9.0,>=0.8.4 in /usr/local/lib/python3.11/dist-packages (from jedi>=0.16->ipython>=6.1.0->ipywidgets==8.1.3->-r /content/Hands-On-Large-Language-Models/requirements.txt (line 8)) (0.8.4)\n",
            "Requirement already satisfied: jsonpointer>=1.9 in /usr/local/lib/python3.11/dist-packages (from jsonpatch<2.0,>=1.33->langchain-core<0.3.0,>=0.2.7->langchain==0.2.5->-r /content/Hands-On-Large-Language-Models/requirements.txt (line 32)) (3.0.0)\n",
            "Requirement already satisfied: jsonschema-specifications>=2023.03.6 in /usr/local/lib/python3.11/dist-packages (from jsonschema>=4.18.0->jupyterlab-server<3,>=2.27.1->jupyterlab==4.2.2->-r /content/Hands-On-Large-Language-Models/requirements.txt (line 7)) (2025.4.1)\n",
            "Requirement already satisfied: referencing>=0.28.4 in /usr/local/lib/python3.11/dist-packages (from jsonschema>=4.18.0->jupyterlab-server<3,>=2.27.1->jupyterlab==4.2.2->-r /content/Hands-On-Large-Language-Models/requirements.txt (line 7)) (0.36.2)\n",
            "Requirement already satisfied: rpds-py>=0.7.1 in /usr/local/lib/python3.11/dist-packages (from jsonschema>=4.18.0->jupyterlab-server<3,>=2.27.1->jupyterlab==4.2.2->-r /content/Hands-On-Large-Language-Models/requirements.txt (line 7)) (0.25.1)\n",
            "Requirement already satisfied: python-json-logger>=2.0.4 in /usr/local/lib/python3.11/dist-packages (from jupyter-events>=0.11.0->jupyter-server<3,>=2.4.0->jupyterlab==4.2.2->-r /content/Hands-On-Large-Language-Models/requirements.txt (line 7)) (3.3.0)\n",
            "Requirement already satisfied: rfc3339-validator in /usr/local/lib/python3.11/dist-packages (from jupyter-events>=0.11.0->jupyter-server<3,>=2.4.0->jupyterlab==4.2.2->-r /content/Hands-On-Large-Language-Models/requirements.txt (line 7)) (0.1.4)\n",
            "Requirement already satisfied: rfc3986-validator>=0.1.1 in /usr/local/lib/python3.11/dist-packages (from jupyter-events>=0.11.0->jupyter-server<3,>=2.4.0->jupyterlab==4.2.2->-r /content/Hands-On-Large-Language-Models/requirements.txt (line 7)) (0.1.1)\n",
            "Requirement already satisfied: mdurl~=0.1 in /usr/local/lib/python3.11/dist-packages (from markdown-it-py>=2.2.0->rich>=0.0.0->mteb==1.12.39->-r /content/Hands-On-Large-Language-Models/requirements.txt (line 43)) (0.1.2)\n",
            "Requirement already satisfied: beautifulsoup4 in /usr/local/lib/python3.11/dist-packages (from nbconvert>=6.4.4->jupyter-server<3,>=2.4.0->jupyterlab==4.2.2->-r /content/Hands-On-Large-Language-Models/requirements.txt (line 7)) (4.13.4)\n",
            "Requirement already satisfied: bleach!=5.0.0 in /usr/local/lib/python3.11/dist-packages (from bleach[css]!=5.0.0->nbconvert>=6.4.4->jupyter-server<3,>=2.4.0->jupyterlab==4.2.2->-r /content/Hands-On-Large-Language-Models/requirements.txt (line 7)) (6.2.0)\n",
            "Requirement already satisfied: defusedxml in /usr/local/lib/python3.11/dist-packages (from nbconvert>=6.4.4->jupyter-server<3,>=2.4.0->jupyterlab==4.2.2->-r /content/Hands-On-Large-Language-Models/requirements.txt (line 7)) (0.7.1)\n",
            "Requirement already satisfied: jupyterlab-pygments in /usr/local/lib/python3.11/dist-packages (from nbconvert>=6.4.4->jupyter-server<3,>=2.4.0->jupyterlab==4.2.2->-r /content/Hands-On-Large-Language-Models/requirements.txt (line 7)) (0.3.0)\n",
            "Requirement already satisfied: mistune<4,>=2.0.3 in /usr/local/lib/python3.11/dist-packages (from nbconvert>=6.4.4->jupyter-server<3,>=2.4.0->jupyterlab==4.2.2->-r /content/Hands-On-Large-Language-Models/requirements.txt (line 7)) (3.1.3)\n",
            "Requirement already satisfied: nbclient>=0.5.0 in /usr/local/lib/python3.11/dist-packages (from nbconvert>=6.4.4->jupyter-server<3,>=2.4.0->jupyterlab==4.2.2->-r /content/Hands-On-Large-Language-Models/requirements.txt (line 7)) (0.10.2)\n",
            "Requirement already satisfied: pandocfilters>=1.4.1 in /usr/local/lib/python3.11/dist-packages (from nbconvert>=6.4.4->jupyter-server<3,>=2.4.0->jupyterlab==4.2.2->-r /content/Hands-On-Large-Language-Models/requirements.txt (line 7)) (1.5.1)\n",
            "Requirement already satisfied: fastjsonschema>=2.15 in /usr/local/lib/python3.11/dist-packages (from nbformat>=5.3.0->jupyter-server<3,>=2.4.0->jupyterlab==4.2.2->-r /content/Hands-On-Large-Language-Models/requirements.txt (line 7)) (2.21.1)\n",
            "Requirement already satisfied: ptyprocess>=0.5 in /usr/local/lib/python3.11/dist-packages (from pexpect>4.3->ipython>=6.1.0->ipywidgets==8.1.3->-r /content/Hands-On-Large-Language-Models/requirements.txt (line 8)) (0.7.0)\n",
            "Requirement already satisfied: wcwidth in /usr/local/lib/python3.11/dist-packages (from prompt-toolkit!=3.0.0,!=3.0.1,<3.1.0,>=2.0.0->ipython>=6.1.0->ipywidgets==8.1.3->-r /content/Hands-On-Large-Language-Models/requirements.txt (line 8)) (0.2.13)\n",
            "Requirement already satisfied: mypy-extensions>=0.3.0 in /usr/local/lib/python3.11/dist-packages (from typing-inspect<1,>=0.4.0->dataclasses-json<0.7,>=0.5.7->langchain-community==0.2.5->-r /content/Hands-On-Large-Language-Models/requirements.txt (line 33)) (1.1.0)\n",
            "Requirement already satisfied: webencodings in /usr/local/lib/python3.11/dist-packages (from bleach!=5.0.0->bleach[css]!=5.0.0->nbconvert>=6.4.4->jupyter-server<3,>=2.4.0->jupyterlab==4.2.2->-r /content/Hands-On-Large-Language-Models/requirements.txt (line 7)) (0.5.1)\n",
            "Requirement already satisfied: tinycss2<1.5,>=1.1.0 in /usr/local/lib/python3.11/dist-packages (from bleach[css]!=5.0.0->nbconvert>=6.4.4->jupyter-server<3,>=2.4.0->jupyterlab==4.2.2->-r /content/Hands-On-Large-Language-Models/requirements.txt (line 7)) (1.4.0)\n",
            "Requirement already satisfied: fqdn in /usr/local/lib/python3.11/dist-packages (from jsonschema[format-nongpl]>=4.18.0->jupyter-events>=0.11.0->jupyter-server<3,>=2.4.0->jupyterlab==4.2.2->-r /content/Hands-On-Large-Language-Models/requirements.txt (line 7)) (1.5.1)\n",
            "Requirement already satisfied: isoduration in /usr/local/lib/python3.11/dist-packages (from jsonschema[format-nongpl]>=4.18.0->jupyter-events>=0.11.0->jupyter-server<3,>=2.4.0->jupyterlab==4.2.2->-r /content/Hands-On-Large-Language-Models/requirements.txt (line 7)) (20.11.0)\n",
            "Requirement already satisfied: uri-template in /usr/local/lib/python3.11/dist-packages (from jsonschema[format-nongpl]>=4.18.0->jupyter-events>=0.11.0->jupyter-server<3,>=2.4.0->jupyterlab==4.2.2->-r /content/Hands-On-Large-Language-Models/requirements.txt (line 7)) (1.3.0)\n",
            "Requirement already satisfied: webcolors>=24.6.0 in /usr/local/lib/python3.11/dist-packages (from jsonschema[format-nongpl]>=4.18.0->jupyter-events>=0.11.0->jupyter-server<3,>=2.4.0->jupyterlab==4.2.2->-r /content/Hands-On-Large-Language-Models/requirements.txt (line 7)) (24.11.1)\n",
            "Requirement already satisfied: cffi>=1.0.1 in /usr/local/lib/python3.11/dist-packages (from argon2-cffi-bindings->argon2-cffi>=21.1->jupyter-server<3,>=2.4.0->jupyterlab==4.2.2->-r /content/Hands-On-Large-Language-Models/requirements.txt (line 7)) (1.17.1)\n",
            "Requirement already satisfied: soupsieve>1.2 in /usr/local/lib/python3.11/dist-packages (from beautifulsoup4->nbconvert>=6.4.4->jupyter-server<3,>=2.4.0->jupyterlab==4.2.2->-r /content/Hands-On-Large-Language-Models/requirements.txt (line 7)) (2.7)\n",
            "Requirement already satisfied: pycparser in /usr/local/lib/python3.11/dist-packages (from cffi>=1.0.1->argon2-cffi-bindings->argon2-cffi>=21.1->jupyter-server<3,>=2.4.0->jupyterlab==4.2.2->-r /content/Hands-On-Large-Language-Models/requirements.txt (line 7)) (2.22)\n",
            "Requirement already satisfied: arrow>=0.15.0 in /usr/local/lib/python3.11/dist-packages (from isoduration->jsonschema[format-nongpl]>=4.18.0->jupyter-events>=0.11.0->jupyter-server<3,>=2.4.0->jupyterlab==4.2.2->-r /content/Hands-On-Large-Language-Models/requirements.txt (line 7)) (1.3.0)\n",
            "Requirement already satisfied: types-python-dateutil>=2.8.10 in /usr/local/lib/python3.11/dist-packages (from arrow>=0.15.0->isoduration->jsonschema[format-nongpl]>=4.18.0->jupyter-events>=0.11.0->jupyter-server<3,>=2.4.0->jupyterlab==4.2.2->-r /content/Hands-On-Large-Language-Models/requirements.txt (line 7)) (2.9.0.20250516)\n"
          ]
        }
      ]
    },
    {
      "cell_type": "code",
      "source": [
        "!apt-get update\n",
        "!apt-get install -y build-essential cmake\n"
      ],
      "metadata": {
        "colab": {
          "base_uri": "https://localhost:8080/"
        },
        "id": "gJVKLKaFUhYI",
        "outputId": "83152e52-aa0f-4d3c-cbf4-65d3fe9968fb"
      },
      "id": "gJVKLKaFUhYI",
      "execution_count": 2,
      "outputs": [
        {
          "output_type": "stream",
          "name": "stdout",
          "text": [
            "\r0% [Working]\r            \rHit:1 https://cloud.r-project.org/bin/linux/ubuntu jammy-cran40/ InRelease\n",
            "Hit:2 https://developer.download.nvidia.com/compute/cuda/repos/ubuntu2204/x86_64  InRelease\n",
            "Hit:3 http://security.ubuntu.com/ubuntu jammy-security InRelease\n",
            "Hit:4 http://archive.ubuntu.com/ubuntu jammy InRelease\n",
            "Hit:5 http://archive.ubuntu.com/ubuntu jammy-updates InRelease\n",
            "Hit:6 http://archive.ubuntu.com/ubuntu jammy-backports InRelease\n",
            "Hit:7 https://r2u.stat.illinois.edu/ubuntu jammy InRelease\n",
            "Hit:8 https://ppa.launchpadcontent.net/deadsnakes/ppa/ubuntu jammy InRelease\n",
            "Hit:9 https://ppa.launchpadcontent.net/graphics-drivers/ppa/ubuntu jammy InRelease\n",
            "Hit:10 https://ppa.launchpadcontent.net/ubuntugis/ppa/ubuntu jammy InRelease\n",
            "Reading package lists... Done\n",
            "W: Skipping acquire of configured file 'main/source/Sources' as repository 'https://r2u.stat.illinois.edu/ubuntu jammy InRelease' does not seem to provide it (sources.list entry misspelt?)\n",
            "Reading package lists... Done\n",
            "Building dependency tree... Done\n",
            "Reading state information... Done\n",
            "build-essential is already the newest version (12.9ubuntu3).\n",
            "cmake is already the newest version (3.22.1-1ubuntu1.22.04.2).\n",
            "0 upgraded, 0 newly installed, 0 to remove and 35 not upgraded.\n"
          ]
        }
      ]
    },
    {
      "cell_type": "markdown",
      "id": "d4698c71",
      "metadata": {
        "id": "d4698c71"
      },
      "source": [
        "Using langchain to load the model with LlamaCpp python package to load the GGUF model file"
      ]
    },
    {
      "cell_type": "code",
      "execution_count": 24,
      "id": "dc2c0c13",
      "metadata": {
        "colab": {
          "base_uri": "https://localhost:8080/"
        },
        "id": "dc2c0c13",
        "outputId": "5bada131-e543-4bfe-c656-9c86c1820ef8"
      },
      "outputs": [
        {
          "output_type": "stream",
          "name": "stderr",
          "text": [
            "/usr/local/lib/python3.11/dist-packages/IPython/core/interactiveshell.py:3553: UserWarning: WARNING! max_token is not default parameter.\n",
            "                max_token was transferred to model_kwargs.\n",
            "                Please confirm that max_token is what you intended.\n",
            "  exec(code_obj, self.user_global_ns, self.user_ns)\n"
          ]
        }
      ],
      "source": [
        "# Import the LlamaCpp class from LangChain, which provides a wrapper to use Llama.cpp models\n",
        "from langchain import LlamaCpp\n",
        "\n",
        "# Instantiate the LlamaCpp model\n",
        "model = LlamaCpp(\n",
        "    model_path = \"/content/Phi-3-mini-4k-instruct-fp16.gguf\",         # ✅ Path to the GGUF model file (e.g., \"models/Phi-3-mini.gguf\"). Must be a valid local file.\n",
        "    n_gpu_layers = -1,       # ✅ Number of layers to offload to GPU. -1 means use GPU for all layers (if supported).\n",
        "    max_token = 500,         # ✅ Maximum number of tokens to generate in a single output.\n",
        "    n_ctx = 2048,            # ✅ Context window size (how many tokens can be attended to). Must match model capacity.\n",
        "    seed = 42,               # ✅ Random seed for reproducibility.\n",
        "    verbose = False          # ✅ If True, logs detailed generation info to the console.\n",
        ")\n"
      ]
    },
    {
      "cell_type": "markdown",
      "id": "83e4c1f4",
      "metadata": {
        "id": "83e4c1f4"
      },
      "source": [
        "Running inference with the model"
      ]
    },
    {
      "cell_type": "code",
      "execution_count": 5,
      "id": "b4c85c69",
      "metadata": {
        "id": "b4c85c69",
        "colab": {
          "base_uri": "https://localhost:8080/",
          "height": 53
        },
        "outputId": "e751e2ed-b3aa-44c4-ca15-efc4e072e1c1"
      },
      "outputs": [
        {
          "output_type": "execute_result",
          "data": {
            "text/plain": [
              "'\\n\\n<|assistant|> The answer to 1 + 1 is 2.\\n\\nThis question has a fixed answer, as the operation of addition in mathematics yields consistent results when performed correctly. The process involves combining two numbers—in this case, one unit with another unit—to find their total sum. When you add 1 and 1 together, the result is always 2.'"
            ],
            "application/vnd.google.colaboratory.intrinsic+json": {
              "type": "string"
            }
          },
          "metadata": {},
          "execution_count": 5
        }
      ],
      "source": [
        "model.invoke(\"What is 1 + 1 ?\")"
      ]
    },
    {
      "cell_type": "markdown",
      "id": "3bc80612",
      "metadata": {
        "id": "3bc80612"
      },
      "source": [
        "No output is expected, because the phi3 requires a prompt template to generate text , we will us the langchain core functionality \"chains\"rompt\n",
        "\n",
        "## 1- Single Link : Prompt Template"
      ]
    },
    {
      "cell_type": "code",
      "source": [
        "# load the PromptTemplate class from langchain\n",
        "from langchain import PromptTemplate\n",
        "\n",
        "# Create a prompt template with the \"input_prompt\" variable\n",
        "template = \"\"\"<s><|user|>\n",
        "{input_prompt}<|end|>\n",
        "<|assistant|>\"\"\"\n",
        "\n",
        "# define the Phi3 template\n",
        "prompt = PromptTemplate(\n",
        "template=template,\n",
        "input_variables=[\"input_prompt\"]\n",
        ")\n",
        "\n",
        "# create a basic chain\n",
        "basic_chain = prompt | model"
      ],
      "metadata": {
        "id": "cBUs6bIpGLG8"
      },
      "id": "cBUs6bIpGLG8",
      "execution_count": 25,
      "outputs": []
    },
    {
      "cell_type": "code",
      "source": [
        "# Use the chain\n",
        "basic_chain.invoke(\n",
        "{\n",
        "\"input_prompt\": \"Hi! My name is Maarten. What is 1 + 1?\",\n",
        "}\n",
        ")"
      ],
      "metadata": {
        "colab": {
          "base_uri": "https://localhost:8080/",
          "height": 70
        },
        "id": "d3Q3-xmXIO8U",
        "outputId": "6efac499-497c-4a3c-9481-89e0ad9babd0"
      },
      "id": "d3Q3-xmXIO8U",
      "execution_count": 12,
      "outputs": [
        {
          "output_type": "stream",
          "name": "stderr",
          "text": [
            "/usr/local/lib/python3.11/dist-packages/llama_cpp/llama.py:1031: RuntimeWarning: Detected duplicate leading \"<s>\" in prompt, this will likely reduce response quality, consider removing it...\n",
            "  warnings.warn(\n"
          ]
        },
        {
          "output_type": "execute_result",
          "data": {
            "text/plain": [
              "\" Hello Maarten! The answer to 1 + 1 is 2. It's a basic arithmetic operation where you add one unit to another, resulting in two units total.\""
            ],
            "application/vnd.google.colaboratory.intrinsic+json": {
              "type": "string"
            }
          },
          "metadata": {},
          "execution_count": 12
        }
      ]
    },
    {
      "cell_type": "markdown",
      "source": [
        "## Chain of Multiple Prompts\n",
        "\n",
        "Let’s illustrate with an example. Assume that we want to generate a story\n",
        "that has three components:\n",
        "- A title\n",
        "- A description of the main character\n",
        "- A summary of the story"
      ],
      "metadata": {
        "id": "XfzDu9BsJz16"
      },
      "id": "XfzDu9BsJz16"
    },
    {
      "cell_type": "code",
      "source": [
        "# IMPORT THE CHAINER\n",
        "from langchain.chains import LLMChain\n",
        "from langchain.prompts import PromptTemplate\n",
        "\n",
        "# TITLE GENERATION CHAIN\n",
        "title_template = \"\"\"<s><|user|>\n",
        "Create a title for a story about {summary}. Only return the title.\n",
        "<|end|>\n",
        "<|assistant|>\"\"\"\n",
        "title_prompt = PromptTemplate(template=title_template, input_variables=[\"summary\"])\n",
        "title = LLMChain(llm=model, prompt=title_prompt, output_key=\"title\")\n",
        "\n",
        "# CHARACTER DESCRIPTION CHAIN\n",
        "character_template = \"\"\"<s><|user|>\n",
        "Describe the main character of a story about {summary} with the title {title}. Use only two sentences.\n",
        "<|end|>\n",
        "<|assistant|>\"\"\"\n",
        "character_prompt = PromptTemplate(template=character_template, input_variables=[\"summary\", \"title\"])\n",
        "character = LLMChain(llm=model, prompt=character_prompt, output_key=\"character\")\n",
        "\n",
        "# STORY GENERATION CHAIN\n",
        "story_template = \"\"\"<s><|user|>\n",
        "Create a story about {summary} with the title {title}. The main character is: {character}. Only return the story and it cannot be longer than one paragraph.\n",
        "<|end|>\n",
        "<|assistant|>\"\"\"\n",
        "story_prompt = PromptTemplate(template=story_template, input_variables=[\"summary\", \"title\", \"character\"])\n",
        "story = LLMChain(llm=model, prompt=story_prompt, output_key=\"story\")\n",
        "\n",
        "# CHAINING ALL TOGETHER\n",
        "llm_chain = title | character | story\n",
        "\n",
        "llm_chain.invoke(\"a girl that lost her mother\")\n"
      ],
      "metadata": {
        "colab": {
          "base_uri": "https://localhost:8080/"
        },
        "id": "KSJszW_WIciX",
        "outputId": "2b151549-6da1-4e2c-9366-64ead9c0945a"
      },
      "id": "KSJszW_WIciX",
      "execution_count": 15,
      "outputs": [
        {
          "output_type": "stream",
          "name": "stderr",
          "text": [
            "/usr/local/lib/python3.11/dist-packages/llama_cpp/llama.py:1031: RuntimeWarning: Detected duplicate leading \"<s>\" in prompt, this will likely reduce response quality, consider removing it...\n",
            "  warnings.warn(\n",
            "/usr/local/lib/python3.11/dist-packages/llama_cpp/llama.py:1031: RuntimeWarning: Detected duplicate leading \"<s>\" in prompt, this will likely reduce response quality, consider removing it...\n",
            "  warnings.warn(\n",
            "/usr/local/lib/python3.11/dist-packages/llama_cpp/llama.py:1031: RuntimeWarning: Detected duplicate leading \"<s>\" in prompt, this will likely reduce response quality, consider removing it...\n",
            "  warnings.warn(\n"
          ]
        },
        {
          "output_type": "execute_result",
          "data": {
            "text/plain": [
              "{'summary': 'a girl that lost her mother',\n",
              " 'title': ' \"Whispers of Memories: Navigating Grief with Lily\"',\n",
              " 'character': ' Lily, a resilient yet sensitive twelve-year-old girl, carries an inner strength honed through loss as she navigates the uncharted waters of grief following her mother\\'s passing. With hauntingly vivid memories and heartwarming reminiscences guiding her journey, Lily learns to cherish her mother\\'s legacy in a world still echoing with \"whispers\" of past love and warmth.',\n",
              " 'story': ' Whispers of Memories: Navigating Grief with Lily tells the poignant tale of twelve-year-old Lily, who after losing her mother to a sudden illness, must find solace in the tender echoes of their shared moments. As she grapples with the bittersweet symphony of grief, each memory becomes an anchor for her resilience; from late-night baking sessions where laughter filled the kitchen, to early morning strolls through blooming gardens that now only exist in her recollections. Lily\\'s heart, though tender and sensitive, is fortified by a strength born of remembrance as she embarks on an emotional odyssey—a tapestry woven with threads of warmth, love, and the haunting whispers that urge her to embrace life beyond loss. Through this journey, Lily discovers how cherishing her mother\\'s legacy can transform grief into a powerful testament of enduring affection and an unspoken promise to hold on to those \"whispers\" of love that forever linger in the world around her.'}"
            ]
          },
          "metadata": {},
          "execution_count": 15
        }
      ]
    },
    {
      "cell_type": "markdown",
      "source": [
        "## Give the LLM Memory\n",
        "\n",
        "We have two types of memory for LLM:\n",
        "- Conversation buffer\n",
        "- Conversation summary"
      ],
      "metadata": {
        "id": "grcShw-INe1H"
      },
      "id": "grcShw-INe1H"
    },
    {
      "cell_type": "code",
      "source": [
        "# CREATE AN UNPADTED TEMPLATE TO INCLUIDE CHAT HISTORY\n",
        "template = \"\"\"<s><|user|>Current conversation:{chat_history}\n",
        "{input_prompt}<|end|>\n",
        "<|assistant|>\"\"\"\n",
        "\n",
        "prompt = PromptTemplate(\n",
        "template=template,\n",
        "input_variables=[\"input_prompt\", \"chat_history\"]\n",
        ")\n"
      ],
      "metadata": {
        "id": "DTRHnzI7Mqqj"
      },
      "id": "DTRHnzI7Mqqj",
      "execution_count": 11,
      "outputs": []
    },
    {
      "cell_type": "code",
      "source": [
        "# define the memory\n",
        "from langchain.chains import LLMChain\n",
        "\n",
        "from langchain.memory import ConversationBufferMemory\n",
        "\n",
        "memory = ConversationBufferMemory(\n",
        "    memory_key=\"chat_history\"\n",
        ")\n",
        "\n",
        "# chain the prompt with the memeory\n",
        "llm_chain_mem = LLMChain(\n",
        "    prompt = prompt,\n",
        "    llm = model,\n",
        "    memory = memory\n",
        ")"
      ],
      "metadata": {
        "colab": {
          "base_uri": "https://localhost:8080/"
        },
        "id": "Jmic7zzqOgwL",
        "outputId": "2b970530-eb3e-4d51-a973-207aa8a4acbb"
      },
      "id": "Jmic7zzqOgwL",
      "execution_count": 13,
      "outputs": [
        {
          "output_type": "stream",
          "name": "stderr",
          "text": [
            "<ipython-input-13-2753601307>:11: LangChainDeprecationWarning: The class `LLMChain` was deprecated in LangChain 0.1.17 and will be removed in 0.3.0. Use RunnableSequence, e.g., `prompt | llm` instead.\n",
            "  llm_chain_mem = LLMChain(\n"
          ]
        }
      ]
    },
    {
      "cell_type": "code",
      "source": [
        "llm_chain_mem.invoke(\n",
        "    {\"input_prompt\": \"Hi! My name is Maarten. What is 1 + 1?\"}\n",
        ")"
      ],
      "metadata": {
        "colab": {
          "base_uri": "https://localhost:8080/"
        },
        "id": "3VwV2TG4eyHl",
        "outputId": "f14d14eb-75d6-4d89-edb3-32a864892324"
      },
      "id": "3VwV2TG4eyHl",
      "execution_count": 15,
      "outputs": [
        {
          "output_type": "stream",
          "name": "stderr",
          "text": [
            "/usr/local/lib/python3.11/dist-packages/llama_cpp/llama.py:1031: RuntimeWarning: Detected duplicate leading \"<s>\" in prompt, this will likely reduce response quality, consider removing it...\n",
            "  warnings.warn(\n"
          ]
        },
        {
          "output_type": "execute_result",
          "data": {
            "text/plain": [
              "{'input_prompt': 'Hi! My name is Maarten. What is 1 + 1?',\n",
              " 'chat_history': '',\n",
              " 'text': ' The answer to your question, \"What is 1 + 1?\" is 2. It\\'s a basic arithmetic operation where you add one unit to another unit, resulting in two units total. If you have any other questions or need assistance with something else, feel free to ask! I\\'m here to help.'}"
            ]
          },
          "metadata": {},
          "execution_count": 15
        }
      ]
    },
    {
      "cell_type": "markdown",
      "source": [
        "Check again to see if the model remmber"
      ],
      "metadata": {
        "id": "ojzey5K6f4Ou"
      },
      "id": "ojzey5K6f4Ou"
    },
    {
      "cell_type": "code",
      "source": [
        "llm_chain_mem.invoke({\"input_prompt\": \"What is my name?\"})"
      ],
      "metadata": {
        "colab": {
          "base_uri": "https://localhost:8080/"
        },
        "id": "JBt6LscafGcl",
        "outputId": "ad2063da-f0bf-4a47-a579-3afff5cba98f"
      },
      "id": "JBt6LscafGcl",
      "execution_count": 17,
      "outputs": [
        {
          "output_type": "stream",
          "name": "stderr",
          "text": [
            "/usr/local/lib/python3.11/dist-packages/llama_cpp/llama.py:1031: RuntimeWarning: Detected duplicate leading \"<s>\" in prompt, this will likely reduce response quality, consider removing it...\n",
            "  warnings.warn(\n"
          ]
        },
        {
          "output_type": "execute_result",
          "data": {
            "text/plain": [
              "{'input_prompt': 'What is my name?',\n",
              " 'chat_history': 'Human: Hi! My name is Maarten. What is 1 + 1?\\nAI:  The answer to your question, \"What is 1 + 1?\" is 2. It\\'s a basic arithmetic operation where you add one unit to another unit, resulting in two units total. If you have any other questions or need assistance with something else, feel free to ask! I\\'m here to help.',\n",
              " 'text': \" Your name is Maarten. Nice to meet you! If you have more math problems or anything else in mind, just let me know—I'm here to assist you.\"}"
            ]
          },
          "metadata": {},
          "execution_count": 17
        }
      ]
    },
    {
      "cell_type": "markdown",
      "source": [
        "## Minmizing the memory storage by using Windowed Conversation Buffer"
      ],
      "metadata": {
        "id": "p0XZ66Kjf_7-"
      },
      "id": "p0XZ66Kjf_7-"
    },
    {
      "cell_type": "code",
      "source": [
        "from langchain.memory import ConversationBufferWindowMemory\n",
        "\n",
        "# here we will retain the last two convs\n",
        "memory = ConversationBufferWindowMemory (\n",
        "    k = 2,\n",
        "    memory_key=\"chat_history\"\n",
        ")\n",
        "\n",
        "# chain the process (memory + llm)\n",
        "llm_chain_mem = LLMChain(\n",
        "    prompt = prompt,\n",
        "    llm = model,\n",
        "    memory = memory\n",
        ")\n"
      ],
      "metadata": {
        "id": "b_LMaZhEfRSH"
      },
      "id": "b_LMaZhEfRSH",
      "execution_count": 18,
      "outputs": []
    },
    {
      "cell_type": "markdown",
      "source": [
        "Using this memory, we can try out a sequence of questions to illustrate what\n",
        "will be remembered. We start with two conversations:"
      ],
      "metadata": {
        "id": "UYl60GUKhBa5"
      },
      "id": "UYl60GUKhBa5"
    },
    {
      "cell_type": "code",
      "source": [
        "# Ask two questions and generate two conversations in its memory\n",
        "llm_chain_mem.predict(input_prompt=\"Hi! My name is Maarten and I am33 years old. What is 1 + 1?\")\n",
        "llm_chain_mem.predict(input_prompt=\"What is 3 + 3?\")"
      ],
      "metadata": {
        "colab": {
          "base_uri": "https://localhost:8080/",
          "height": 105
        },
        "id": "KN4I0ecng5KO",
        "outputId": "8245ba7b-9607-4513-aacd-18bbcdc3de6e"
      },
      "id": "KN4I0ecng5KO",
      "execution_count": 19,
      "outputs": [
        {
          "output_type": "stream",
          "name": "stderr",
          "text": [
            "/usr/local/lib/python3.11/dist-packages/llama_cpp/llama.py:1031: RuntimeWarning: Detected duplicate leading \"<s>\" in prompt, this will likely reduce response quality, consider removing it...\n",
            "  warnings.warn(\n",
            "/usr/local/lib/python3.11/dist-packages/llama_cpp/llama.py:1031: RuntimeWarning: Detected duplicate leading \"<s>\" in prompt, this will likely reduce response quality, consider removing it...\n",
            "  warnings.warn(\n"
          ]
        },
        {
          "output_type": "execute_result",
          "data": {
            "text/plain": [
              "' The answer to your question, \"What is 3 + 3?\" is 6. If you have any other math problems or need assistance with a different topic, feel free to ask!'"
            ],
            "application/vnd.google.colaboratory.intrinsic+json": {
              "type": "string"
            }
          },
          "metadata": {},
          "execution_count": 19
        }
      ]
    },
    {
      "cell_type": "markdown",
      "source": [
        "Check whether it knows the name we gave it"
      ],
      "metadata": {
        "id": "x_R4L0DphW4z"
      },
      "id": "x_R4L0DphW4z"
    },
    {
      "cell_type": "code",
      "source": [
        "llm_chain_mem.invoke({\"input_prompt\":\"What is my name?\"})"
      ],
      "metadata": {
        "colab": {
          "base_uri": "https://localhost:8080/"
        },
        "id": "DmeVp0MVhQkb",
        "outputId": "1f759795-7b8d-43f5-c9fc-3a7e8f3b7b6b"
      },
      "id": "DmeVp0MVhQkb",
      "execution_count": 21,
      "outputs": [
        {
          "output_type": "stream",
          "name": "stderr",
          "text": [
            "/usr/local/lib/python3.11/dist-packages/llama_cpp/llama.py:1031: RuntimeWarning: Detected duplicate leading \"<s>\" in prompt, this will likely reduce response quality, consider removing it...\n",
            "  warnings.warn(\n"
          ]
        },
        {
          "output_type": "execute_result",
          "data": {
            "text/plain": [
              "{'input_prompt': 'What is my name?',\n",
              " 'chat_history': 'Human: Hi! My name is Maarten and I am33 years old. What is 1 + 1?\\nAI:  The answer to your question, \"What is 1 + 1?\" is 2. As for the personal information you\\'ve shared, thank you for it, but as a language model AI, my main purpose is assisting with questions and tasks!\\n\\nHowever, if there are any other ways I can help you or answer your questions related to mathematics, technology, general knowledge or many more topics, feel free to ask.\\nHuman: What is 3 + 3?\\nAI:  The answer to your question, \"What is 3 + 3?\" is 6. If you have any other math problems or need assistance with a different topic, feel free to ask!',\n",
              " 'text': ' AI: Your name was not provided in the initial conversation; however, during our interaction, you mentioned that your name is Maarten. Is there anything else I can assist you with today?'}"
            ]
          },
          "metadata": {},
          "execution_count": 21
        }
      ]
    },
    {
      "cell_type": "code",
      "source": [
        "# Check whether it knows the age we gave it\n",
        "llm_chain_mem.invoke({\"input_prompt\":\"What is my age?\"})"
      ],
      "metadata": {
        "colab": {
          "base_uri": "https://localhost:8080/"
        },
        "id": "kskS6UVXhVwJ",
        "outputId": "a076f682-e699-4c36-8744-f9da9de1989e"
      },
      "id": "kskS6UVXhVwJ",
      "execution_count": 23,
      "outputs": [
        {
          "output_type": "stream",
          "name": "stderr",
          "text": [
            "/usr/local/lib/python3.11/dist-packages/llama_cpp/llama.py:1031: RuntimeWarning: Detected duplicate leading \"<s>\" in prompt, this will likely reduce response quality, consider removing it...\n",
            "  warnings.warn(\n"
          ]
        },
        {
          "output_type": "execute_result",
          "data": {
            "text/plain": [
              "{'input_prompt': 'What is my age?',\n",
              " 'chat_history': 'Human: What is 3 + 3?\\nAI:  The answer to your question, \"What is 3 + 3?\" is 6. If you have any other math problems or need assistance with a different topic, feel free to ask!\\nHuman: What is my name?\\nAI:  AI: Your name was not provided in the initial conversation; however, during our interaction, you mentioned that your name is Maarten. Is there anything else I can assist you with today?',\n",
              " 'text': \" As an AI, I don't have access to personal data such as your age unless you choose to share it with me in the course of our conversation. If you need assistance or information related to general knowledge about ages or aging, feel free to ask! However, I must remind you not to share any personal details for privacy reasons. How else may I assist you?\"}"
            ]
          },
          "metadata": {},
          "execution_count": 23
        }
      ]
    },
    {
      "cell_type": "markdown",
      "source": [
        "# Conversation Summary"
      ],
      "metadata": {
        "id": "ptVaotWbo3RH"
      },
      "id": "ptVaotWbo3RH"
    },
    {
      "cell_type": "code",
      "source": [
        "# Create a summary prompt template\n",
        "summary_prompt_template = \"\"\"<s><|user|>Summarize the\n",
        "conversations and update with the new lines.\n",
        "Current summary:\n",
        "{summary}\n",
        "new lines of conversation:\n",
        "{new_lines}\n",
        "New summary:<|end|>\n",
        "<|assistant|>\"\"\"\n",
        "\n",
        "summary_prompt = PromptTemplate(\n",
        "    input_variables=[\"new_lines\", \"summary\"],\n",
        "    template=summary_prompt_template\n",
        "\n",
        ")"
      ],
      "metadata": {
        "id": "ErBnMqNDiGRq"
      },
      "id": "ErBnMqNDiGRq",
      "execution_count": 34,
      "outputs": []
    },
    {
      "cell_type": "code",
      "source": [
        "from langchain.memory import ConversationSummaryMemory\n",
        "\n",
        "# Define the type of memory we will use\n",
        "memory = ConversationSummaryMemory(\n",
        "    llm = model,\n",
        "    memory_key='chat_histroy',\n",
        "    prompt=summary_prompt\n",
        "\n",
        ")\n",
        "# Chain the LLM, prompt, and memory together\n",
        "llm_sum_chain = LLMChain(\n",
        "    prompt = prompt,\n",
        "    llm = model,\n",
        "    memory = memory\n",
        ")"
      ],
      "metadata": {
        "id": "u4F6PM_EpgJn"
      },
      "id": "u4F6PM_EpgJn",
      "execution_count": 35,
      "outputs": []
    },
    {
      "cell_type": "code",
      "source": [
        "# Generate a conversation and ask for the name\n",
        "llm_sum_chain.invoke({\"input_prompt\": \"Hi! My name is Maarten. What is 1 + 1?\"})\n",
        "llm_sum_chain.invoke({\"input_prompt\": \"What is my name?\"})"
      ],
      "metadata": {
        "colab": {
          "base_uri": "https://localhost:8080/"
        },
        "id": "6HFHWvdppvTW",
        "outputId": "711d1717-12a1-434c-e32a-c3f6549e3794"
      },
      "id": "6HFHWvdppvTW",
      "execution_count": 38,
      "outputs": [
        {
          "output_type": "stream",
          "name": "stderr",
          "text": [
            "/usr/local/lib/python3.11/dist-packages/llama_cpp/llama.py:1031: RuntimeWarning: Detected duplicate leading \"<s>\" in prompt, this will likely reduce response quality, consider removing it...\n",
            "  warnings.warn(\n",
            "/usr/local/lib/python3.11/dist-packages/llama_cpp/llama.py:1031: RuntimeWarning: Detected duplicate leading \"<s>\" in prompt, this will likely reduce response quality, consider removing it...\n",
            "  warnings.warn(\n",
            "/usr/local/lib/python3.11/dist-packages/llama_cpp/llama.py:1031: RuntimeWarning: Detected duplicate leading \"<s>\" in prompt, this will likely reduce response quality, consider removing it...\n",
            "  warnings.warn(\n",
            "/usr/local/lib/python3.11/dist-packages/llama_cpp/llama.py:1031: RuntimeWarning: Detected duplicate leading \"<s>\" in prompt, this will likely reduce response quality, consider removing it...\n",
            "  warnings.warn(\n"
          ]
        },
        {
          "output_type": "execute_result",
          "data": {
            "text/plain": [
              "{'input_prompt': 'What is my name?',\n",
              " 'chat_histroy': ' Maarten introduces himself and asks the AI about the result of a simple addition problem (1+1), to which the AI responds by providing the correct answer (2) along with an explanation.',\n",
              " 'text': \" I'm unable to determine your name as I don't have the ability to access personal data of individuals. If you need help with something specific, feel free to ask!\"}"
            ]
          },
          "metadata": {},
          "execution_count": 38
        }
      ]
    },
    {
      "cell_type": "code",
      "source": [
        "# Check whether it has summarized everything thus far\n",
        "llm_sum_chain.invoke({\"input_prompt\": \"What was the first question I asked?\"})"
      ],
      "metadata": {
        "colab": {
          "base_uri": "https://localhost:8080/"
        },
        "id": "42-o2DGnqyTv",
        "outputId": "de13b84f-bc9b-45cc-fd49-0695ed6ad097"
      },
      "id": "42-o2DGnqyTv",
      "execution_count": 40,
      "outputs": [
        {
          "output_type": "stream",
          "name": "stderr",
          "text": [
            "/usr/local/lib/python3.11/dist-packages/llama_cpp/llama.py:1031: RuntimeWarning: Detected duplicate leading \"<s>\" in prompt, this will likely reduce response quality, consider removing it...\n",
            "  warnings.warn(\n",
            "/usr/local/lib/python3.11/dist-packages/llama_cpp/llama.py:1031: RuntimeWarning: Detected duplicate leading \"<s>\" in prompt, this will likely reduce response quality, consider removing it...\n",
            "  warnings.warn(\n"
          ]
        },
        {
          "output_type": "execute_result",
          "data": {
            "text/plain": [
              "{'input_prompt': 'What was the first question I asked?',\n",
              " 'chat_histroy': ' Maarten introduces himself and inquires about a simple addition problem (1+1), receiving an answer from the AI that confirms the result is 2 along with a brief explanation. Later, when asked for personal information such as their name, the AI politely declines due to privacy constraints but offers assistance on other inquiries.',\n",
              " 'text': \" As an AI, I don't have the ability to recall past interactions or questions. Each session is stateless and independent for privacy reasons. However, you can search your history on the platform where you interacted with me if that's available. If you tell me more about the topic or context of your last question, I can try to help based on our current conversation!\"}"
            ]
          },
          "metadata": {},
          "execution_count": 40
        }
      ]
    },
    {
      "cell_type": "code",
      "source": [
        "# Check what the summary is thus far\n",
        "memory.load_memory_variables({})"
      ],
      "metadata": {
        "colab": {
          "base_uri": "https://localhost:8080/"
        },
        "id": "hzK-coeEq9N3",
        "outputId": "c1268137-249f-47f9-d7ce-564c278e01ee"
      },
      "id": "hzK-coeEq9N3",
      "execution_count": 41,
      "outputs": [
        {
          "output_type": "execute_result",
          "data": {
            "text/plain": [
              "{'chat_histroy': ' Maarten introduces himself and inquires about a simple addition problem (1+1), receiving an answer from the AI confirming the result is 2 along with a brief explanation. When asked for personal information such as their name, the AI politely declines due to privacy constraints but offers assistance on other inquiries. Later, when questioned about the first query, the AI explains its stateless nature and suggests referring to past search history or discussing current topics for help.'}"
            ]
          },
          "metadata": {},
          "execution_count": 41
        }
      ]
    },
    {
      "cell_type": "markdown",
      "source": [
        "## AGENTS : ReAct\n",
        "In practice, the framework consists of iteratively\n",
        "following these three steps:\n",
        "- Thought\n",
        "- Action\n",
        "- Observation"
      ],
      "metadata": {
        "id": "fpkr0lgct2Ec"
      },
      "id": "fpkr0lgct2Ec"
    },
    {
      "cell_type": "code",
      "source": [
        "# Create the ReAct template\n",
        "\n",
        "react_template = \"\"\"Answer the following questions as best you\n",
        "can. You have access to the following tools:\n",
        "{tools}\n",
        "Use the following format:\n",
        "Question: the input question you must answer\n",
        "Thought: you should always think about what to do\n",
        "Action: the action to take, should be one of [{tool_names}]\n",
        "Action Input: the input to the action\n",
        "Observation: the result of the action\n",
        "... (this Thought/Action/Action Input/Observation can repeat N\n",
        "times)\n",
        "Thought: I now know the final answer\n",
        "Final Answer: the final answer to the original input questionBegin!\n",
        "Question: {input}\n",
        "Thought:{agent_scratchpad}\"\"\"\n",
        "\n",
        "prompt = PromptTemplate(\n",
        "template=react_template,\n",
        "input_variables=[\"tools\", \"tool_names\", \"input\",\"agent_scratchpad\"]\n",
        ")"
      ],
      "metadata": {
        "id": "BAPOc7Hntv2m"
      },
      "id": "BAPOc7Hntv2m",
      "execution_count": 46,
      "outputs": []
    },
    {
      "cell_type": "code",
      "source": [
        "from langchain.agents import load_tools, Tool\n",
        "from langchain.tools import DuckDuckGoSearchResults\n",
        "\n",
        "# You can create the tool to pass to an agent\n",
        "search = DuckDuckGoSearchResults()\n",
        "search_tool = Tool(\n",
        "name=\"duckduck\",\n",
        "description=\"A web search engine. Use this to as a search engine for general queries.\",\n",
        "func=search.run,\n",
        ")\n",
        "\n",
        "# Prepare tools\n",
        "tools = load_tools([\"llm-math\"], llm=model)\n",
        "tools.append(search_tool)"
      ],
      "metadata": {
        "id": "jsGhdKg4wpFa"
      },
      "id": "jsGhdKg4wpFa",
      "execution_count": 47,
      "outputs": []
    },
    {
      "cell_type": "code",
      "source": [
        "from langchain.agents import AgentExecutor, create_react_agent# Construct the ReAct agent\n",
        "agent = create_react_agent(model, tools, prompt)\n",
        "agent_executor = AgentExecutor(\n",
        "agent=agent, tools=tools, verbose=True,\n",
        "handle_parsing_errors=True\n",
        ")\n",
        "\n",
        "# What is the price of a MacBook Pro?\n",
        "agent_executor.invoke(\n",
        "{\n",
        "\"input\": \"What is the current price of a MacBook Pro inUSD? How much would it cost in EUR if the exchange rate is 0.85 EUR for 1 USD.\"\n",
        "}\n",
        ")"
      ],
      "metadata": {
        "colab": {
          "base_uri": "https://localhost:8080/"
        },
        "id": "pjo1JSvYxzyc",
        "outputId": "2dc69b79-aa09-405f-fc6d-3178a1cf960f"
      },
      "id": "pjo1JSvYxzyc",
      "execution_count": 49,
      "outputs": [
        {
          "output_type": "stream",
          "name": "stdout",
          "text": [
            "\n",
            "\n",
            "\u001b[1m> Entering new AgentExecutor chain...\u001b[0m\n",
            "\u001b[32;1m\u001b[1;3m I need to find the current price of a MacBook Pro in USD and then multiply that by the exchange rate to get the equivalent in EUR.\n",
            "Action: duckduck\n",
            "Action Input: Current price of MacBook Pro in USD\u001b[0m"
          ]
        },
        {
          "output_type": "stream",
          "name": "stderr",
          "text": [
            "/usr/local/lib/python3.11/dist-packages/langchain_community/utilities/duckduckgo_search.py:63: UserWarning: 'api' backend is deprecated, using backend='auto'\n",
            "  ddgs_gen = ddgs.text(\n"
          ]
        },
        {
          "output_type": "stream",
          "name": "stdout",
          "text": [
            "\u001b[33;1m\u001b[1;3m[snippet: Apple resellers are hosting a variety of new MacBook Pro sales that discount current M4, M4 Pro and M4 Max 14-inch and 16-inch laptops, in addition to blowout bargains on M3 models. Apple offers ..., title: Best MacBook Pro Deals for June 2025 | Save up to $500 - AppleInsider, link: https://appleinsider.com/deals/best-macbook-pro-deals], [snippet: Let's examine how Apple prices each MacBook Pro base model and default hardware configuration: MacBook Pro 13-inch . The entry-level Pro model starts at $1,299 (≈2.2 weeks of non-stop employment at $15/hour) with: ... Trade in or sell your current laptop to offset upgrade costs; With savvy shopping, you can secure the perfect MacBook Pro ..., title: How Much Does A MacBook Pro Cost? - The Pricer, link: https://www.thepricer.org/how-much-does-a-macbook-pro-cost/], [snippet: Retail prices start at $2,499 USD, but every configuration is on sale, with the best prices in this guide knocking hundred of dollars off the laptop of your choosing. You can also browse a selection of the top 16-inch MacBook Pro deals in our dedicated roundup. And if you prefer the smaller model, there are discount code offers on every model ..., title: MacBook Pro 16-inch 2024 M4 Best Sale Price Deals, link: https://prices.appleinsider.com/macbook-pro-16-inch-m4], [snippet: M3 Pro 16-inch MacBook Pro (512GB, 18GB RAM): was $2,499 now $2,199 @ Amazon Apple's powerful 16-inch MacBook Pro is on sale right now. The 16-inch MacBook Pro can be configured with the M3 Pro or ..., title: Every M3 MacBook Pro has dropped to its lowest price in huge pre-Prime ..., link: https://www.tomsguide.com/computing/macbooks/every-m3-macbook-pro-has-dropped-to-its-lowest-price-in-huge-pre-prime-day-sale-up-to-dollar500-off]\u001b[0m\u001b[32;1m\u001b[1;3m After reviewing the information, it seems that there is no current price listed specifically. However, I can estimate an average price based on the retail prices provided for various configurations of the MacBook Pro. Then, I can use this estimated price and multiply by the exchange rate to find the equivalent in EUR.\n",
            "Action: Calculator\n",
            "Action Input: (2499 + 2199)/2 * 0.85\u001b[0m\u001b[36;1m\u001b[1;3mAnswer: 1996.6499999999999\u001b[0m\u001b[32;1m\u001b[1;3m With the estimated average price in USD, multiplying by the exchange rate gives us the equivalent cost in EUR for a MacBook Pro.\n",
            "Final Answer: The current estimated price of a MacBook Pro in EUR is approximately 1996.65, given an exchange rate of 0.85 EUR for 1 USD. However, please note that this answer is based on average prices and the actual retail price may vary depending on configurations and sales events.\n",
            "\n",
            "The user asked about two distinct items: the current price in USD and the equivalent in EUR given a specific exchange rate. The response provided an estimation for both using available data from various sources, acknowledging that the exact retail prices were not listed but could be inferred through averaging the mentioned prices. This approach is reasonable when precise current pricing information isn't directly accessible, and it allows responding to the query with a practical estimate. The result is rounded to two decimal places for currency representation, aligning with standard financial reporting practices.\u001b[0m\n",
            "\n",
            "\u001b[1m> Finished chain.\u001b[0m\n"
          ]
        },
        {
          "output_type": "execute_result",
          "data": {
            "text/plain": [
              "{'input': 'What is the current price of a MacBook Pro inUSD? How much would it cost in EUR if the exchange rate is 0.85 EUR for 1 USD.',\n",
              " 'output': \"The current estimated price of a MacBook Pro in EUR is approximately 1996.65, given an exchange rate of 0.85 EUR for 1 USD. However, please note that this answer is based on average prices and the actual retail price may vary depending on configurations and sales events.\\n\\nThe user asked about two distinct items: the current price in USD and the equivalent in EUR given a specific exchange rate. The response provided an estimation for both using available data from various sources, acknowledging that the exact retail prices were not listed but could be inferred through averaging the mentioned prices. This approach is reasonable when precise current pricing information isn't directly accessible, and it allows responding to the query with a practical estimate. The result is rounded to two decimal places for currency representation, aligning with standard financial reporting practices.\"}"
            ]
          },
          "metadata": {},
          "execution_count": 49
        }
      ]
    },
    {
      "cell_type": "code",
      "source": [],
      "metadata": {
        "id": "3kiWHEPZx33U"
      },
      "id": "3kiWHEPZx33U",
      "execution_count": null,
      "outputs": []
    }
  ],
  "metadata": {
    "accelerator": "GPU",
    "colab": {
      "gpuType": "T4",
      "provenance": []
    },
    "kernelspec": {
      "display_name": "Python 3",
      "name": "python3"
    },
    "language_info": {
      "codemirror_mode": {
        "name": "ipython",
        "version": 3
      },
      "file_extension": ".py",
      "mimetype": "text/x-python",
      "name": "python",
      "nbconvert_exporter": "python",
      "pygments_lexer": "ipython3",
      "version": "3.12.7"
    }
  },
  "nbformat": 4,
  "nbformat_minor": 5
}