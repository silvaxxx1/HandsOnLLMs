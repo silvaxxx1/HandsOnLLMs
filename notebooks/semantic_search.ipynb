{
 "cells": [
  {
   "cell_type": "markdown",
   "id": "9b9b24b1",
   "metadata": {},
   "source": [
    "## Semantic Search :"
   ]
  },
  {
   "cell_type": "markdown",
   "id": "34a62d1b",
   "metadata": {},
   "source": [
    "## 1- Dense Retrieval \n",
    "\n",
    "# steps (pipeline):\n",
    "\n",
    "* get the preprocessed the data \n",
    "*  get the embeddings for the data\n",
    "*  get tthe search index \n",
    "*  Search and see the results "
   ]
  },
  {
   "cell_type": "code",
   "execution_count": 1,
   "id": "dcbf1d3e",
   "metadata": {},
   "outputs": [],
   "source": [
    "import cohere \n",
    "import numpy as np \n",
    "import pandas as pd \n",
    "from tqdm import tqdm\n",
    "import os"
   ]
  },
  {
   "cell_type": "markdown",
   "id": "c5a2b04e",
   "metadata": {},
   "source": [
    "# Sign up for Cohere API Key"
   ]
  },
  {
   "cell_type": "code",
   "execution_count": 2,
   "id": "6ab0d185",
   "metadata": {},
   "outputs": [],
   "source": [
    "api_key = \"6D3KaVzf1hemHvfW2Mzc2Zf1AcA0Cnav6XIVClbk\""
   ]
  },
  {
   "cell_type": "code",
   "execution_count": 3,
   "id": "71c6bd65",
   "metadata": {},
   "outputs": [],
   "source": [
    "co = cohere.Client(api_key) "
   ]
  },
  {
   "cell_type": "markdown",
   "id": "d934708c",
   "metadata": {},
   "source": [
    "# The text we will use for the search"
   ]
  },
  {
   "cell_type": "code",
   "execution_count": 4,
   "id": "867324c2",
   "metadata": {},
   "outputs": [],
   "source": [
    "text = \"\"\"\n",
    "Interstellar is a 2014 epic science fiction film co-written,\n",
    "directed, and produced by Christopher Nolan.\n",
    "It stars Matthew McConaughey, Anne Hathaway, Jessica Chastain,\n",
    "Bill Irwin, Ellen Burstyn, Matt Damon, and Michael Caine.\n",
    "Set in a dystopian future where humanity is struggling to\n",
    "survive, the film follows a group of astronauts who travel\n",
    "through a wormhole near Saturn in search of a new home for\n",
    "mankind.\n",
    "Brothers Christopher and Jonathan Nolan wrote the screenplay,\n",
    "which had its origins in a script Jonathan developed in 2007.\n",
    "Caltech theoretical physicist and 2017 Nobel laureate in\n",
    "Physics[4] Kip Thorne was an executive producer, acted as a\n",
    "scientific consultant, and wrote a tie-in book, The Science of\n",
    "Interstellar.\n",
    "Cinematographer Hoyte van Hoytema shot it on 35 mm movie film in\n",
    "the Panavision anamorphic format and IMAX 70 mm.\n",
    "Principal photography began in late 2013 and took place in\n",
    "Alberta, Iceland, and Los Angeles.\n",
    "Interstellar uses extensive practical and miniature effects and\n",
    "the company Double Negative created additional digital effects.\n",
    "Interstellar premiered on October 26, 2014, in Los Angeles.\n",
    "In the United States, it was first released on film stock,\n",
    "expanding to venues using digital projectors.\n",
    "The film had a worldwide gross over $677 million (and $773\n",
    "million with subsequent re-releases), making it the tenth-highest\n",
    "grossing film of 2014.\n",
    "It received acclaim for its performances, direction, screenplay,\n",
    "musical score, visual effects, ambition, themes, and emotional\n",
    "weight.\n",
    "It has also received praise from many astronomers for its\n",
    "scientific accuracy and portrayal of theoretical astrophysics.\n",
    "Since its premiere, Interstellar gained a cult following,[5] and \n",
    "now is regarded by many sci-fi experts as one of the best\n",
    "science-fiction films of all time.\n",
    "Interstellar was nominated for five awards at the 87th Academy\n",
    "Awards, winning Best Visual Effects, and received numerous other\n",
    "accoladesaccolades\"\"\""
   ]
  },
  {
   "cell_type": "markdown",
   "id": "ae52f9ce",
   "metadata": {},
   "source": [
    "# Some light preprocessing"
   ]
  },
  {
   "cell_type": "code",
   "execution_count": 5,
   "id": "b573bc2e",
   "metadata": {},
   "outputs": [
    {
     "data": {
      "text/plain": [
       "['\\nInterstellar is a 2014 epic science fiction film co-written,\\ndirected, and produced by Christopher Nolan',\n",
       " '\\nIt stars Matthew McConaughey, Anne Hathaway, Jessica Chastain,\\nBill Irwin, Ellen Burstyn, Matt Damon, and Michael Caine',\n",
       " '\\nSet in a dystopian future where humanity is struggling to\\nsurvive, the film follows a group of astronauts who travel\\nthrough a wormhole near Saturn in search of a new home for\\nmankind',\n",
       " '\\nBrothers Christopher and Jonathan Nolan wrote the screenplay,\\nwhich had its origins in a script Jonathan developed in 2007',\n",
       " '\\nCaltech theoretical physicist and 2017 Nobel laureate in\\nPhysics[4] Kip Thorne was an executive producer, acted as a\\nscientific consultant, and wrote a tie-in book, The Science of\\nInterstellar',\n",
       " '\\nCinematographer Hoyte van Hoytema shot it on 35 mm movie film in\\nthe Panavision anamorphic format and IMAX 70 mm',\n",
       " '\\nPrincipal photography began in late 2013 and took place in\\nAlberta, Iceland, and Los Angeles',\n",
       " '\\nInterstellar uses extensive practical and miniature effects and\\nthe company Double Negative created additional digital effects',\n",
       " '\\nInterstellar premiered on October 26, 2014, in Los Angeles',\n",
       " '\\nIn the United States, it was first released on film stock,\\nexpanding to venues using digital projectors',\n",
       " '\\nThe film had a worldwide gross over $677 million (and $773\\nmillion with subsequent re-releases), making it the tenth-highest\\ngrossing film of 2014',\n",
       " '\\nIt received acclaim for its performances, direction, screenplay,\\nmusical score, visual effects, ambition, themes, and emotional\\nweight',\n",
       " '\\nIt has also received praise from many astronomers for its\\nscientific accuracy and portrayal of theoretical astrophysics',\n",
       " '\\nSince its premiere, Interstellar gained a cult following,[5] and \\nnow is regarded by many sci-fi experts as one of the best\\nscience-fiction films of all time',\n",
       " '\\nInterstellar was nominated for five awards at the 87th Academy\\nAwards, winning Best Visual Effects, and received numerous other\\naccoladesaccolades']"
      ]
     },
     "execution_count": 5,
     "metadata": {},
     "output_type": "execute_result"
    }
   ],
   "source": [
    "text = text.split('.')\n",
    "text"
   ]
  },
  {
   "cell_type": "code",
   "execution_count": 6,
   "id": "21904856",
   "metadata": {},
   "outputs": [
    {
     "data": {
      "text/plain": [
       "['Interstellar is a 2014 epic science fiction film co-written,\\ndirected, and produced by Christopher Nolan',\n",
       " 'It stars Matthew McConaughey, Anne Hathaway, Jessica Chastain,\\nBill Irwin, Ellen Burstyn, Matt Damon, and Michael Caine',\n",
       " 'Set in a dystopian future where humanity is struggling to\\nsurvive, the film follows a group of astronauts who travel\\nthrough a wormhole near Saturn in search of a new home for\\nmankind',\n",
       " 'Brothers Christopher and Jonathan Nolan wrote the screenplay,\\nwhich had its origins in a script Jonathan developed in 2007',\n",
       " 'Caltech theoretical physicist and 2017 Nobel laureate in\\nPhysics[4] Kip Thorne was an executive producer, acted as a\\nscientific consultant, and wrote a tie-in book, The Science of\\nInterstellar',\n",
       " 'Cinematographer Hoyte van Hoytema shot it on 35 mm movie film in\\nthe Panavision anamorphic format and IMAX 70 mm',\n",
       " 'Principal photography began in late 2013 and took place in\\nAlberta, Iceland, and Los Angeles',\n",
       " 'Interstellar uses extensive practical and miniature effects and\\nthe company Double Negative created additional digital effects',\n",
       " 'Interstellar premiered on October 26, 2014, in Los Angeles',\n",
       " 'In the United States, it was first released on film stock,\\nexpanding to venues using digital projectors',\n",
       " 'The film had a worldwide gross over $677 million (and $773\\nmillion with subsequent re-releases), making it the tenth-highest\\ngrossing film of 2014',\n",
       " 'It received acclaim for its performances, direction, screenplay,\\nmusical score, visual effects, ambition, themes, and emotional\\nweight',\n",
       " 'It has also received praise from many astronomers for its\\nscientific accuracy and portrayal of theoretical astrophysics',\n",
       " 'Since its premiere, Interstellar gained a cult following,[5] and \\nnow is regarded by many sci-fi experts as one of the best\\nscience-fiction films of all time',\n",
       " 'Interstellar was nominated for five awards at the 87th Academy\\nAwards, winning Best Visual Effects, and received numerous other\\naccoladesaccolades']"
      ]
     },
     "execution_count": 6,
     "metadata": {},
     "output_type": "execute_result"
    }
   ],
   "source": [
    "text = [t.strip() for t in text if t.strip()] \n",
    "text"
   ]
  },
  {
   "cell_type": "markdown",
   "id": "5c44c01d",
   "metadata": {},
   "source": [
    "# set the text to the cohere API and get the embeddings"
   ]
  },
  {
   "cell_type": "code",
   "execution_count": 7,
   "id": "da187a09",
   "metadata": {},
   "outputs": [],
   "source": [
    "embediings = co.embed(texts = text,\n",
    "                      input_type='search_document',\n",
    "                      ).embeddings \n",
    "\n"
   ]
  },
  {
   "cell_type": "code",
   "execution_count": 8,
   "id": "ffcb1c61",
   "metadata": {},
   "outputs": [
    {
     "data": {
      "text/plain": [
       "(15, 4096)"
      ]
     },
     "execution_count": 8,
     "metadata": {},
     "output_type": "execute_result"
    }
   ],
   "source": [
    "embed_arr = np.array(embediings) \n",
    "embed_arr.shape"
   ]
  },
  {
   "cell_type": "markdown",
   "id": "3e621bc9",
   "metadata": {},
   "source": [
    "# Building the search index"
   ]
  },
  {
   "cell_type": "code",
   "execution_count": 11,
   "id": "8718b3f9",
   "metadata": {},
   "outputs": [
    {
     "ename": "ModuleNotFoundError",
     "evalue": "No module named 'faiss'",
     "output_type": "error",
     "traceback": [
      "\u001b[31m---------------------------------------------------------------------------\u001b[39m",
      "\u001b[31mModuleNotFoundError\u001b[39m                       Traceback (most recent call last)",
      "\u001b[36mCell\u001b[39m\u001b[36m \u001b[39m\u001b[32mIn[11]\u001b[39m\u001b[32m, line 1\u001b[39m\n\u001b[32m----> \u001b[39m\u001b[32m1\u001b[39m \u001b[38;5;28;01mimport\u001b[39;00m\u001b[38;5;250m \u001b[39m\u001b[34;01mfaiss\u001b[39;00m \n",
      "\u001b[31mModuleNotFoundError\u001b[39m: No module named 'faiss'"
     ]
    }
   ],
   "source": [
    "import faiss "
   ]
  },
  {
   "cell_type": "code",
   "execution_count": null,
   "id": "d4da1247",
   "metadata": {},
   "outputs": [],
   "source": []
  }
 ],
 "metadata": {
  "kernelspec": {
   "display_name": "hands-on-llm",
   "language": "python",
   "name": "python3"
  },
  "language_info": {
   "codemirror_mode": {
    "name": "ipython",
    "version": 3
   },
   "file_extension": ".py",
   "mimetype": "text/x-python",
   "name": "python",
   "nbconvert_exporter": "python",
   "pygments_lexer": "ipython3",
   "version": "3.12.7"
  }
 },
 "nbformat": 4,
 "nbformat_minor": 5
}
